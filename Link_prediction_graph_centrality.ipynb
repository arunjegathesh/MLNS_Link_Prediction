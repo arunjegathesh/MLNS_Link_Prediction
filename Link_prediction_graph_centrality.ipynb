{
  "nbformat": 4,
  "nbformat_minor": 0,
  "metadata": {
    "colab": {
      "provenance": [],
      "include_colab_link": true
    },
    "kernelspec": {
      "name": "python3",
      "display_name": "Python 3"
    },
    "language_info": {
      "name": "python"
    },
    "accelerator": "GPU",
    "gpuClass": "standard",
    "widgets": {
      "application/vnd.jupyter.widget-state+json": {
        "03283a92eec143369bf2e64345a67240": {
          "model_module": "@jupyter-widgets/controls",
          "model_name": "HBoxModel",
          "model_module_version": "1.5.0",
          "state": {
            "_dom_classes": [],
            "_model_module": "@jupyter-widgets/controls",
            "_model_module_version": "1.5.0",
            "_model_name": "HBoxModel",
            "_view_count": null,
            "_view_module": "@jupyter-widgets/controls",
            "_view_module_version": "1.5.0",
            "_view_name": "HBoxView",
            "box_style": "",
            "children": [
              "IPY_MODEL_1e7396bf3e124ca783f2da149fd4825e",
              "IPY_MODEL_bd8c9c8c51f14320985cb0b816955333",
              "IPY_MODEL_b9ef97408e8845b38100ce19d9c4dbe9"
            ],
            "layout": "IPY_MODEL_52e9a39117a8451f9e357d0acdc0befb"
          }
        },
        "1e7396bf3e124ca783f2da149fd4825e": {
          "model_module": "@jupyter-widgets/controls",
          "model_name": "HTMLModel",
          "model_module_version": "1.5.0",
          "state": {
            "_dom_classes": [],
            "_model_module": "@jupyter-widgets/controls",
            "_model_module_version": "1.5.0",
            "_model_name": "HTMLModel",
            "_view_count": null,
            "_view_module": "@jupyter-widgets/controls",
            "_view_module_version": "1.5.0",
            "_view_name": "HTMLView",
            "description": "",
            "description_tooltip": null,
            "layout": "IPY_MODEL_2827d164530d4a1685b3781fe0e4d197",
            "placeholder": "​",
            "style": "IPY_MODEL_27328d1346894931b6b69a582a74d454",
            "value": "Computing transition probabilities: 100%"
          }
        },
        "bd8c9c8c51f14320985cb0b816955333": {
          "model_module": "@jupyter-widgets/controls",
          "model_name": "FloatProgressModel",
          "model_module_version": "1.5.0",
          "state": {
            "_dom_classes": [],
            "_model_module": "@jupyter-widgets/controls",
            "_model_module_version": "1.5.0",
            "_model_name": "FloatProgressModel",
            "_view_count": null,
            "_view_module": "@jupyter-widgets/controls",
            "_view_module_version": "1.5.0",
            "_view_name": "ProgressView",
            "bar_style": "success",
            "description": "",
            "description_tooltip": null,
            "layout": "IPY_MODEL_2a06ea14c0504e3db138adf6b4583454",
            "max": 10496,
            "min": 0,
            "orientation": "horizontal",
            "style": "IPY_MODEL_f6738ebbfc0a4f55b9f3e290654708a5",
            "value": 10496
          }
        },
        "b9ef97408e8845b38100ce19d9c4dbe9": {
          "model_module": "@jupyter-widgets/controls",
          "model_name": "HTMLModel",
          "model_module_version": "1.5.0",
          "state": {
            "_dom_classes": [],
            "_model_module": "@jupyter-widgets/controls",
            "_model_module_version": "1.5.0",
            "_model_name": "HTMLModel",
            "_view_count": null,
            "_view_module": "@jupyter-widgets/controls",
            "_view_module_version": "1.5.0",
            "_view_name": "HTMLView",
            "description": "",
            "description_tooltip": null,
            "layout": "IPY_MODEL_e8d77ab58ae5457a981e2fd02cdd0224",
            "placeholder": "​",
            "style": "IPY_MODEL_698dbd189ab0476f93f15285f2c87a25",
            "value": " 10496/10496 [00:00&lt;00:00, 4907.48it/s]"
          }
        },
        "52e9a39117a8451f9e357d0acdc0befb": {
          "model_module": "@jupyter-widgets/base",
          "model_name": "LayoutModel",
          "model_module_version": "1.2.0",
          "state": {
            "_model_module": "@jupyter-widgets/base",
            "_model_module_version": "1.2.0",
            "_model_name": "LayoutModel",
            "_view_count": null,
            "_view_module": "@jupyter-widgets/base",
            "_view_module_version": "1.2.0",
            "_view_name": "LayoutView",
            "align_content": null,
            "align_items": null,
            "align_self": null,
            "border": null,
            "bottom": null,
            "display": null,
            "flex": null,
            "flex_flow": null,
            "grid_area": null,
            "grid_auto_columns": null,
            "grid_auto_flow": null,
            "grid_auto_rows": null,
            "grid_column": null,
            "grid_gap": null,
            "grid_row": null,
            "grid_template_areas": null,
            "grid_template_columns": null,
            "grid_template_rows": null,
            "height": null,
            "justify_content": null,
            "justify_items": null,
            "left": null,
            "margin": null,
            "max_height": null,
            "max_width": null,
            "min_height": null,
            "min_width": null,
            "object_fit": null,
            "object_position": null,
            "order": null,
            "overflow": null,
            "overflow_x": null,
            "overflow_y": null,
            "padding": null,
            "right": null,
            "top": null,
            "visibility": null,
            "width": null
          }
        },
        "2827d164530d4a1685b3781fe0e4d197": {
          "model_module": "@jupyter-widgets/base",
          "model_name": "LayoutModel",
          "model_module_version": "1.2.0",
          "state": {
            "_model_module": "@jupyter-widgets/base",
            "_model_module_version": "1.2.0",
            "_model_name": "LayoutModel",
            "_view_count": null,
            "_view_module": "@jupyter-widgets/base",
            "_view_module_version": "1.2.0",
            "_view_name": "LayoutView",
            "align_content": null,
            "align_items": null,
            "align_self": null,
            "border": null,
            "bottom": null,
            "display": null,
            "flex": null,
            "flex_flow": null,
            "grid_area": null,
            "grid_auto_columns": null,
            "grid_auto_flow": null,
            "grid_auto_rows": null,
            "grid_column": null,
            "grid_gap": null,
            "grid_row": null,
            "grid_template_areas": null,
            "grid_template_columns": null,
            "grid_template_rows": null,
            "height": null,
            "justify_content": null,
            "justify_items": null,
            "left": null,
            "margin": null,
            "max_height": null,
            "max_width": null,
            "min_height": null,
            "min_width": null,
            "object_fit": null,
            "object_position": null,
            "order": null,
            "overflow": null,
            "overflow_x": null,
            "overflow_y": null,
            "padding": null,
            "right": null,
            "top": null,
            "visibility": null,
            "width": null
          }
        },
        "27328d1346894931b6b69a582a74d454": {
          "model_module": "@jupyter-widgets/controls",
          "model_name": "DescriptionStyleModel",
          "model_module_version": "1.5.0",
          "state": {
            "_model_module": "@jupyter-widgets/controls",
            "_model_module_version": "1.5.0",
            "_model_name": "DescriptionStyleModel",
            "_view_count": null,
            "_view_module": "@jupyter-widgets/base",
            "_view_module_version": "1.2.0",
            "_view_name": "StyleView",
            "description_width": ""
          }
        },
        "2a06ea14c0504e3db138adf6b4583454": {
          "model_module": "@jupyter-widgets/base",
          "model_name": "LayoutModel",
          "model_module_version": "1.2.0",
          "state": {
            "_model_module": "@jupyter-widgets/base",
            "_model_module_version": "1.2.0",
            "_model_name": "LayoutModel",
            "_view_count": null,
            "_view_module": "@jupyter-widgets/base",
            "_view_module_version": "1.2.0",
            "_view_name": "LayoutView",
            "align_content": null,
            "align_items": null,
            "align_self": null,
            "border": null,
            "bottom": null,
            "display": null,
            "flex": null,
            "flex_flow": null,
            "grid_area": null,
            "grid_auto_columns": null,
            "grid_auto_flow": null,
            "grid_auto_rows": null,
            "grid_column": null,
            "grid_gap": null,
            "grid_row": null,
            "grid_template_areas": null,
            "grid_template_columns": null,
            "grid_template_rows": null,
            "height": null,
            "justify_content": null,
            "justify_items": null,
            "left": null,
            "margin": null,
            "max_height": null,
            "max_width": null,
            "min_height": null,
            "min_width": null,
            "object_fit": null,
            "object_position": null,
            "order": null,
            "overflow": null,
            "overflow_x": null,
            "overflow_y": null,
            "padding": null,
            "right": null,
            "top": null,
            "visibility": null,
            "width": null
          }
        },
        "f6738ebbfc0a4f55b9f3e290654708a5": {
          "model_module": "@jupyter-widgets/controls",
          "model_name": "ProgressStyleModel",
          "model_module_version": "1.5.0",
          "state": {
            "_model_module": "@jupyter-widgets/controls",
            "_model_module_version": "1.5.0",
            "_model_name": "ProgressStyleModel",
            "_view_count": null,
            "_view_module": "@jupyter-widgets/base",
            "_view_module_version": "1.2.0",
            "_view_name": "StyleView",
            "bar_color": null,
            "description_width": ""
          }
        },
        "e8d77ab58ae5457a981e2fd02cdd0224": {
          "model_module": "@jupyter-widgets/base",
          "model_name": "LayoutModel",
          "model_module_version": "1.2.0",
          "state": {
            "_model_module": "@jupyter-widgets/base",
            "_model_module_version": "1.2.0",
            "_model_name": "LayoutModel",
            "_view_count": null,
            "_view_module": "@jupyter-widgets/base",
            "_view_module_version": "1.2.0",
            "_view_name": "LayoutView",
            "align_content": null,
            "align_items": null,
            "align_self": null,
            "border": null,
            "bottom": null,
            "display": null,
            "flex": null,
            "flex_flow": null,
            "grid_area": null,
            "grid_auto_columns": null,
            "grid_auto_flow": null,
            "grid_auto_rows": null,
            "grid_column": null,
            "grid_gap": null,
            "grid_row": null,
            "grid_template_areas": null,
            "grid_template_columns": null,
            "grid_template_rows": null,
            "height": null,
            "justify_content": null,
            "justify_items": null,
            "left": null,
            "margin": null,
            "max_height": null,
            "max_width": null,
            "min_height": null,
            "min_width": null,
            "object_fit": null,
            "object_position": null,
            "order": null,
            "overflow": null,
            "overflow_x": null,
            "overflow_y": null,
            "padding": null,
            "right": null,
            "top": null,
            "visibility": null,
            "width": null
          }
        },
        "698dbd189ab0476f93f15285f2c87a25": {
          "model_module": "@jupyter-widgets/controls",
          "model_name": "DescriptionStyleModel",
          "model_module_version": "1.5.0",
          "state": {
            "_model_module": "@jupyter-widgets/controls",
            "_model_module_version": "1.5.0",
            "_model_name": "DescriptionStyleModel",
            "_view_count": null,
            "_view_module": "@jupyter-widgets/base",
            "_view_module_version": "1.2.0",
            "_view_name": "StyleView",
            "description_width": ""
          }
        }
      }
    }
  },
  "cells": [
    {
      "cell_type": "markdown",
      "metadata": {
        "id": "view-in-github",
        "colab_type": "text"
      },
      "source": [
        "<a href=\"https://colab.research.google.com/github/arunjegathesh/MLNS_Link_Prediction/blob/node2vec_node_features_test/Link_prediction_graph_centrality.ipynb\" target=\"_parent\"><img src=\"https://colab.research.google.com/assets/colab-badge.svg\" alt=\"Open In Colab\"/></a>"
      ]
    },
    {
      "cell_type": "code",
      "source": [
        "!pip install node2vec"
      ],
      "metadata": {
        "colab": {
          "base_uri": "https://localhost:8080/"
        },
        "id": "ZaFCkH-xGyFR",
        "outputId": "67387af6-ba7e-45d1-db36-a435bff387bd"
      },
      "execution_count": 1,
      "outputs": [
        {
          "output_type": "stream",
          "name": "stdout",
          "text": [
            "Looking in indexes: https://pypi.org/simple, https://us-python.pkg.dev/colab-wheels/public/simple/\n",
            "Collecting node2vec\n",
            "  Downloading node2vec-0.4.6-py3-none-any.whl (7.0 kB)\n",
            "Requirement already satisfied: numpy<2.0.0,>=1.19.5 in /usr/local/lib/python3.9/dist-packages (from node2vec) (1.22.4)\n",
            "Requirement already satisfied: gensim<5.0.0,>=4.1.2 in /usr/local/lib/python3.9/dist-packages (from node2vec) (4.3.1)\n",
            "Collecting networkx<3.0,>=2.5\n",
            "  Downloading networkx-2.8.8-py3-none-any.whl (2.0 MB)\n",
            "\u001b[2K     \u001b[90m━━━━━━━━━━━━━━━━━━━━━━━━━━━━━━━━━━━━━━━━\u001b[0m \u001b[32m2.0/2.0 MB\u001b[0m \u001b[31m33.0 MB/s\u001b[0m eta \u001b[36m0:00:00\u001b[0m\n",
            "\u001b[?25hRequirement already satisfied: tqdm<5.0.0,>=4.55.1 in /usr/local/lib/python3.9/dist-packages (from node2vec) (4.65.0)\n",
            "Requirement already satisfied: joblib<2.0.0,>=1.1.0 in /usr/local/lib/python3.9/dist-packages (from node2vec) (1.1.1)\n",
            "Requirement already satisfied: smart-open>=1.8.1 in /usr/local/lib/python3.9/dist-packages (from gensim<5.0.0,>=4.1.2->node2vec) (6.3.0)\n",
            "Requirement already satisfied: scipy>=1.7.0 in /usr/local/lib/python3.9/dist-packages (from gensim<5.0.0,>=4.1.2->node2vec) (1.10.1)\n",
            "Installing collected packages: networkx, node2vec\n",
            "  Attempting uninstall: networkx\n",
            "    Found existing installation: networkx 3.0\n",
            "    Uninstalling networkx-3.0:\n",
            "      Successfully uninstalled networkx-3.0\n",
            "Successfully installed networkx-2.8.8 node2vec-0.4.6\n"
          ]
        }
      ]
    },
    {
      "cell_type": "code",
      "source": [
        "pip uninstall gensim"
      ],
      "metadata": {
        "colab": {
          "base_uri": "https://localhost:8080/"
        },
        "id": "1l5QjrNCOnin",
        "outputId": "9ed4d876-6c60-4b63-858c-b9505bb6fa29"
      },
      "execution_count": 2,
      "outputs": [
        {
          "output_type": "stream",
          "name": "stdout",
          "text": [
            "Found existing installation: gensim 4.3.1\n",
            "Uninstalling gensim-4.3.1:\n",
            "  Would remove:\n",
            "    /usr/local/lib/python3.9/dist-packages/gensim-4.3.1.dist-info/*\n",
            "    /usr/local/lib/python3.9/dist-packages/gensim/*\n",
            "Proceed (Y/n)? Y\n",
            "  Successfully uninstalled gensim-4.3.1\n"
          ]
        }
      ]
    },
    {
      "cell_type": "code",
      "source": [
        "!pip install gensim #==3.8.3"
      ],
      "metadata": {
        "colab": {
          "base_uri": "https://localhost:8080/"
        },
        "id": "mR9_irWqLx4m",
        "outputId": "0e268b7d-4b6d-4f04-afd6-0f3ba1b7bd9e"
      },
      "execution_count": 3,
      "outputs": [
        {
          "output_type": "stream",
          "name": "stdout",
          "text": [
            "Looking in indexes: https://pypi.org/simple, https://us-python.pkg.dev/colab-wheels/public/simple/\n",
            "Collecting gensim\n",
            "  Downloading gensim-4.3.1-cp39-cp39-manylinux_2_17_x86_64.manylinux2014_x86_64.whl (26.5 MB)\n",
            "\u001b[2K     \u001b[90m━━━━━━━━━━━━━━━━━━━━━━━━━━━━━━━━━━━━━━━━\u001b[0m \u001b[32m26.5/26.5 MB\u001b[0m \u001b[31m57.0 MB/s\u001b[0m eta \u001b[36m0:00:00\u001b[0m\n",
            "\u001b[?25hRequirement already satisfied: numpy>=1.18.5 in /usr/local/lib/python3.9/dist-packages (from gensim) (1.22.4)\n",
            "Requirement already satisfied: smart-open>=1.8.1 in /usr/local/lib/python3.9/dist-packages (from gensim) (6.3.0)\n",
            "Requirement already satisfied: scipy>=1.7.0 in /usr/local/lib/python3.9/dist-packages (from gensim) (1.10.1)\n",
            "Installing collected packages: gensim\n",
            "Successfully installed gensim-4.3.1\n"
          ]
        }
      ]
    },
    {
      "cell_type": "code",
      "source": [
        "import gensim\n",
        "print(gensim.__version__)"
      ],
      "metadata": {
        "colab": {
          "base_uri": "https://localhost:8080/"
        },
        "id": "1OoXZ5Z6O1wo",
        "outputId": "e954ccce-5d8b-4019-8f09-fa058f21e30d"
      },
      "execution_count": 4,
      "outputs": [
        {
          "output_type": "stream",
          "name": "stdout",
          "text": [
            "4.3.1\n"
          ]
        }
      ]
    },
    {
      "cell_type": "code",
      "execution_count": 1,
      "metadata": {
        "id": "QIX4Q4vyf2gU"
      },
      "outputs": [],
      "source": [
        "import os\n",
        "import sys\n",
        "import numpy as np \n",
        "import pandas as pd\n",
        "import networkx as nx\n",
        "import scipy\n",
        "import matplotlib.pyplot as plt\n",
        "import xgboost\n",
        "\n",
        "from sklearn.model_selection import KFold\n",
        "from sklearn.model_selection import cross_val_score\n",
        "from sklearn.metrics import mean_absolute_error\n",
        "from sklearn.metrics import f1_score\n",
        "from sklearn.metrics import classification_report\n",
        "from sklearn.model_selection import GridSearchCV\n",
        "from xgboost import XGBClassifier\n",
        "\n",
        "from sklearn.model_selection import train_test_split\n"
      ]
    },
    {
      "cell_type": "code",
      "source": [
        "from google.colab import drive\n",
        "drive.mount('/content/drive')"
      ],
      "metadata": {
        "colab": {
          "base_uri": "https://localhost:8080/"
        },
        "id": "mdWgFeCYU9Lf",
        "outputId": "ef3bc1c8-7a78-446f-8f02-6c200af44637"
      },
      "execution_count": 2,
      "outputs": [
        {
          "output_type": "stream",
          "name": "stdout",
          "text": [
            "Mounted at /content/drive\n"
          ]
        }
      ]
    },
    {
      "cell_type": "code",
      "source": [
        "links = pd.read_csv('/content/drive/Shareddrives/MNLS/Kaggle/Data/train.txt', header = None, \n",
        "                    sep = ' ', names = ['node', 'target', 'edge'])\n",
        "X = links[['node', 'target']]\n",
        "y = links['edge']"
      ],
      "metadata": {
        "id": "i3TAdzIEhQLf"
      },
      "execution_count": 77,
      "outputs": []
    },
    {
      "cell_type": "code",
      "source": [
        "def CreateGraph (X, y, directed = False):\n",
        "    \n",
        "    if directed:\n",
        "        G = nx.from_pandas_edgelist(X, 'node', 'target', create_using=nx.DiGraph())\n",
        "    else:    \n",
        "        G = nx.from_pandas_edgelist(X[y == 1], 'node', 'target', create_using=nx.Graph())\n",
        "        \n",
        "    G.add_nodes_from(range(10496))\n",
        "    \n",
        "    return G"
      ],
      "metadata": {
        "id": "PcuK7xOfisCD"
      },
      "execution_count": 3,
      "outputs": []
    },
    {
      "cell_type": "code",
      "source": [
        "G = CreateGraph(X, y)"
      ],
      "metadata": {
        "id": "Xr9ez3oEwBfc"
      },
      "execution_count": 9,
      "outputs": []
    },
    {
      "cell_type": "code",
      "source": [
        "G"
      ],
      "metadata": {
        "colab": {
          "base_uri": "https://localhost:8080/"
        },
        "id": "F4QvxrEzwMf0",
        "outputId": "c7563f7e-8e65-481e-c2f4-b07efe4686b3"
      },
      "execution_count": 10,
      "outputs": [
        {
          "output_type": "execute_result",
          "data": {
            "text/plain": [
              "<networkx.classes.graph.Graph at 0x7f5206e96e20>"
            ]
          },
          "metadata": {},
          "execution_count": 10
        }
      ]
    },
    {
      "cell_type": "code",
      "source": [],
      "metadata": {
        "id": "TfSmhDtXPEle"
      },
      "execution_count": null,
      "outputs": []
    },
    {
      "cell_type": "code",
      "source": [
        "#can skip node2vec part as it is still in testing phase"
      ],
      "metadata": {
        "id": "QZP9d9-MPEcX"
      },
      "execution_count": null,
      "outputs": []
    },
    {
      "cell_type": "code",
      "source": [
        "from sklearn.decomposition import PCA\n",
        "from node2vec import Node2Vec"
      ],
      "metadata": {
        "id": "GU_7_5DzEhpQ"
      },
      "execution_count": 8,
      "outputs": []
    },
    {
      "cell_type": "code",
      "source": [
        "# Train the Node2Vec model to generate node embeddings\n",
        "node2vec = Node2Vec(G, dimensions=64, walk_length=30, num_walks=200, p=1, q=0.5, workers=4)\n",
        "\n",
        "model = node2vec.fit(window=10, min_count=1)"
      ],
      "metadata": {
        "colab": {
          "base_uri": "https://localhost:8080/",
          "height": 49,
          "referenced_widgets": [
            "03283a92eec143369bf2e64345a67240",
            "1e7396bf3e124ca783f2da149fd4825e",
            "bd8c9c8c51f14320985cb0b816955333",
            "b9ef97408e8845b38100ce19d9c4dbe9",
            "52e9a39117a8451f9e357d0acdc0befb",
            "2827d164530d4a1685b3781fe0e4d197",
            "27328d1346894931b6b69a582a74d454",
            "2a06ea14c0504e3db138adf6b4583454",
            "f6738ebbfc0a4f55b9f3e290654708a5",
            "e8d77ab58ae5457a981e2fd02cdd0224",
            "698dbd189ab0476f93f15285f2c87a25"
          ]
        },
        "id": "DX2X7GY7Ai1s",
        "outputId": "073230b6-c56e-4e8d-fe5e-6e21df68a855"
      },
      "execution_count": 30,
      "outputs": [
        {
          "output_type": "display_data",
          "data": {
            "text/plain": [
              "Computing transition probabilities:   0%|          | 0/10496 [00:00<?, ?it/s]"
            ],
            "application/vnd.jupyter.widget-view+json": {
              "version_major": 2,
              "version_minor": 0,
              "model_id": "03283a92eec143369bf2e64345a67240"
            }
          },
          "metadata": {}
        }
      ]
    },
    {
      "cell_type": "code",
      "source": [
        "# Get the node embeddings as a dictionary\n",
        "embeddings = model.wv"
      ],
      "metadata": {
        "id": "g2J7ot_DIn93"
      },
      "execution_count": 31,
      "outputs": []
    },
    {
      "cell_type": "code",
      "source": [
        "# Create a list to store the node embeddings\n",
        "embeddings_list = []\n",
        "\n",
        "# Iterate over each row in the dataframe and retrieve the node embeddings\n",
        "for _, row in links.iterrows():\n",
        "    node = row['node']\n",
        "    target = row['target']\n",
        "    embedding = embeddings[str(node)]\n",
        "    embeddings_list.append(embedding)"
      ],
      "metadata": {
        "id": "mCb8CWyOMfnz"
      },
      "execution_count": 35,
      "outputs": []
    },
    {
      "cell_type": "code",
      "source": [
        "# Convert the list of embeddings to a pandas dataframe and merge it with the original dataframe\n",
        "embeddings_df = pd.DataFrame(embeddings_list, columns=['embedding_'+str(i) for i in range(64)])\n",
        "node2vec_df = pd.concat([links, embeddings_df], axis=1)"
      ],
      "metadata": {
        "id": "rE-YZ-prMvig"
      },
      "execution_count": 38,
      "outputs": []
    },
    {
      "cell_type": "code",
      "source": [],
      "metadata": {
        "id": "RIyShG6tPCs2"
      },
      "execution_count": null,
      "outputs": []
    },
    {
      "cell_type": "code",
      "source": [],
      "metadata": {
        "id": "3AMW4DqEPCho"
      },
      "execution_count": null,
      "outputs": []
    },
    {
      "cell_type": "code",
      "source": [
        "# Plot graph\n",
        "plt.figure(figsize=(5,5))\n",
        "\n",
        "pos = nx.random_layout(G, seed=19)\n",
        "nx.draw(G, with_labels=False,  pos = pos, node_size = 50, alpha = 0.6, width = 0.6)\n",
        "\n",
        "plt.show()"
      ],
      "metadata": {
        "colab": {
          "base_uri": "https://localhost:8080/",
          "height": 391
        },
        "id": "Df33wow70vpe",
        "outputId": "7031f83e-4771-4c01-dad3-7d2ba1414f72"
      },
      "execution_count": 11,
      "outputs": [
        {
          "output_type": "display_data",
          "data": {
            "text/plain": [
              "<Figure size 360x360 with 1 Axes>"
            ],
            "image/png": "[encoded data removed]"
          },
          "metadata": {}
        }
      ]
    },
    {
      "cell_type": "code",
      "source": [
        "def AppendNextworkxFeature (function, G, X):\n",
        "    \n",
        "    column_name = str(function).split()[1]\n",
        "    \n",
        "    tuple_list = list(X[['node','target']].itertuples(index=False, name=None))\n",
        "    coef_generator = function(G, tuple_list)\n",
        "    coef_df = pd.DataFrame(coef_generator)\n",
        "    X.insert(2, column_name, list(coef_df[2]), allow_duplicates = True)"
      ],
      "metadata": {
        "id": "31tufGsYiNtq"
      },
      "execution_count": 4,
      "outputs": []
    },
    {
      "cell_type": "code",
      "source": [
        "def AppendNextworkxFeature_graphlevel (function, G, X):\n",
        "    \n",
        "    column_name = str(function).split()[1]\n",
        "    \n",
        "    coef_generator = function(G)\n",
        "    X[column_name] = X['node'].map(coef_generator)"
      ],
      "metadata": {
        "id": "dIt6Z4IH1vYn"
      },
      "execution_count": 5,
      "outputs": []
    },
    {
      "cell_type": "code",
      "source": [
        "def nxGenerateFeatures(X_train, y_train):\n",
        "    \n",
        "    G = CreateGraph(X_train, y_train)\n",
        "\n",
        "    # 1.3 Predict new coefficient/feature for defined link prediction function\n",
        "    linkPredictionFunctions1 = [\n",
        "        nx.resource_allocation_index,\n",
        "        nx.jaccard_coefficient,\n",
        "        nx.preferential_attachment]\n",
        "    \n",
        "    linkPredictionFunctions2 = [\n",
        "        \n",
        "        # nx.degree_centrality,\n",
        "        #                         nx.betweenness_centrality,\n",
        "        #                         nx.closeness_centrality,\n",
        "        #                         nx.eigenvector_centrality,\n",
        "                                nx.clustering,\n",
        "                                #nx.pagerank,\n",
        "                                nx.katz_centrality_numpy,\n",
        "                                nx.average_neighbor_degree]\n",
        "                                #nx.triangles]\n",
        "\n",
        "    for function in linkPredictionFunctions1:\n",
        "        AppendNextworkxFeature(function, G, X_train)\n",
        "        AppendNextworkxFeature(function, G, X_test)\n",
        "    \n",
        "    for function in linkPredictionFunctions2:\n",
        "        AppendNextworkxFeature_graphlevel(function, G, X_train)\n",
        "        AppendNextworkxFeature_graphlevel(function, G, X_test)\n",
        "\n",
        "    return G, X_train, X_test\n"
      ],
      "metadata": {
        "id": "EdbjxVltmwsQ"
      },
      "execution_count": 70,
      "outputs": []
    },
    {
      "cell_type": "code",
      "source": [
        "X_train, X_test, y_train, y_test = train_test_split(X, y, test_size=0.15, random_state=42)"
      ],
      "metadata": {
        "id": "4TZ3cPdrhut1"
      },
      "execution_count": 55,
      "outputs": []
    },
    {
      "cell_type": "code",
      "source": [
        "G, X_train, X_test = nxGenerateFeatures (X_train, X_test, y_train)"
      ],
      "metadata": {
        "id": "ejTSHjMriefp"
      },
      "execution_count": 56,
      "outputs": []
    },
    {
      "cell_type": "code",
      "source": [
        "X_train"
      ],
      "metadata": {
        "colab": {
          "base_uri": "https://localhost:8080/",
          "height": 483
        },
        "id": "wbihVW405NdT",
        "outputId": "05acc722-e66b-48e6-c510-8feb949a9d39"
      },
      "execution_count": 48,
      "outputs": [
        {
          "output_type": "execute_result",
          "data": {
            "text/plain": [
              "       node  target  preferential_attachment  jaccard_coefficient  \\\n",
              "4619   4616    7205                       10                  0.0   \n",
              "10414  2921    4098                        2                  0.0   \n",
              "9819   2827    5655                        3                  0.0   \n",
              "2157   3236    6799                       21                  0.0   \n",
              "3846   2909    4571                        3                  0.0   \n",
              "...     ...     ...                      ...                  ...   \n",
              "5734   2954    3004                        2                  0.0   \n",
              "5191    800    5171                        4                  0.0   \n",
              "5390    609    2031                        1                  0.0   \n",
              "860    2610    6516                        6                  0.0   \n",
              "7270   2024    3785                        8                  0.0   \n",
              "\n",
              "       resource_allocation_index  clustering  pagerank  katz_centrality_numpy  \\\n",
              "4619                         0.0         0.0  0.000215               0.008998   \n",
              "10414                        0.0         0.0  0.000189               0.012144   \n",
              "9819                         0.0         0.0  0.000199               0.013873   \n",
              "2157                         0.0         0.0  0.000192               0.016952   \n",
              "3846                         0.0         0.0  0.000103               0.006404   \n",
              "...                          ...         ...       ...                    ...   \n",
              "5734                         0.0         0.0  0.000119               0.007877   \n",
              "5191                         0.0         0.0  0.000101              -0.008127   \n",
              "5390                         0.0         0.0  0.000098               0.009598   \n",
              "860                          0.0         0.0  0.000295               0.009932   \n",
              "7270                         0.0         0.0  0.000157              -0.006605   \n",
              "\n",
              "       average_neighbor_degree  triangles  \n",
              "4619                  3.000000          0  \n",
              "10414                10.500000          0  \n",
              "9819                  5.000000          0  \n",
              "2157                 10.000000          0  \n",
              "3846                  4.000000          0  \n",
              "...                        ...        ...  \n",
              "5734                  2.000000          0  \n",
              "5191                299.000000          0  \n",
              "5390                  7.000000          0  \n",
              "860                   2.666667          0  \n",
              "7270                153.000000          0  \n",
              "\n",
              "[8921 rows x 10 columns]"
            ],
            "text/html": [
              "\n",
              "  <div id=\"df-31991395-deba-4501-97e1-39adfaa8a341\">\n",
              "    <div class=\"colab-df-container\">\n",
              "      <div>\n",
              "<style scoped>\n",
              "    .dataframe tbody tr th:only-of-type {\n",
              "        vertical-align: middle;\n",
              "    }\n",
              "\n",
              "    .dataframe tbody tr th {\n",
              "        vertical-align: top;\n",
              "    }\n",
              "\n",
              "    .dataframe thead th {\n",
              "        text-align: right;\n",
              "    }\n",
              "</style>\n",
              "<table border=\"1\" class=\"dataframe\">\n",
              "  <thead>\n",
              "    <tr style=\"text-align: right;\">\n",
              "      <th></th>\n",
              "      <th>node</th>\n",
              "      <th>target</th>\n",
              "      <th>preferential_attachment</th>\n",
              "      <th>jaccard_coefficient</th>\n",
              "      <th>resource_allocation_index</th>\n",
              "      <th>clustering</th>\n",
              "      <th>pagerank</th>\n",
              "      <th>katz_centrality_numpy</th>\n",
              "      <th>average_neighbor_degree</th>\n",
              "      <th>triangles</th>\n",
              "    </tr>\n",
              "  </thead>\n",
              "  <tbody>\n",
              "    <tr>\n",
              "      <th>4619</th>\n",
              "      <td>4616</td>\n",
              "      <td>7205</td>\n",
              "      <td>10</td>\n",
              "      <td>0.0</td>\n",
              "      <td>0.0</td>\n",
              "      <td>0.0</td>\n",
              "      <td>0.000215</td>\n",
              "      <td>0.008998</td>\n",
              "      <td>3.000000</td>\n",
              "      <td>0</td>\n",
              "    </tr>\n",
              "    <tr>\n",
              "      <th>10414</th>\n",
              "      <td>2921</td>\n",
              "      <td>4098</td>\n",
              "      <td>2</td>\n",
              "      <td>0.0</td>\n",
              "      <td>0.0</td>\n",
              "      <td>0.0</td>\n",
              "      <td>0.000189</td>\n",
              "      <td>0.012144</td>\n",
              "      <td>10.500000</td>\n",
              "      <td>0</td>\n",
              "    </tr>\n",
              "    <tr>\n",
              "      <th>9819</th>\n",
              "      <td>2827</td>\n",
              "      <td>5655</td>\n",
              "      <td>3</td>\n",
              "      <td>0.0</td>\n",
              "      <td>0.0</td>\n",
              "      <td>0.0</td>\n",
              "      <td>0.000199</td>\n",
              "      <td>0.013873</td>\n",
              "      <td>5.000000</td>\n",
              "      <td>0</td>\n",
              "    </tr>\n",
              "    <tr>\n",
              "      <th>2157</th>\n",
              "      <td>3236</td>\n",
              "      <td>6799</td>\n",
              "      <td>21</td>\n",
              "      <td>0.0</td>\n",
              "      <td>0.0</td>\n",
              "      <td>0.0</td>\n",
              "      <td>0.000192</td>\n",
              "      <td>0.016952</td>\n",
              "      <td>10.000000</td>\n",
              "      <td>0</td>\n",
              "    </tr>\n",
              "    <tr>\n",
              "      <th>3846</th>\n",
              "      <td>2909</td>\n",
              "      <td>4571</td>\n",
              "      <td>3</td>\n",
              "      <td>0.0</td>\n",
              "      <td>0.0</td>\n",
              "      <td>0.0</td>\n",
              "      <td>0.000103</td>\n",
              "      <td>0.006404</td>\n",
              "      <td>4.000000</td>\n",
              "      <td>0</td>\n",
              "    </tr>\n",
              "    <tr>\n",
              "      <th>...</th>\n",
              "      <td>...</td>\n",
              "      <td>...</td>\n",
              "      <td>...</td>\n",
              "      <td>...</td>\n",
              "      <td>...</td>\n",
              "      <td>...</td>\n",
              "      <td>...</td>\n",
              "      <td>...</td>\n",
              "      <td>...</td>\n",
              "      <td>...</td>\n",
              "    </tr>\n",
              "    <tr>\n",
              "      <th>5734</th>\n",
              "      <td>2954</td>\n",
              "      <td>3004</td>\n",
              "      <td>2</td>\n",
              "      <td>0.0</td>\n",
              "      <td>0.0</td>\n",
              "      <td>0.0</td>\n",
              "      <td>0.000119</td>\n",
              "      <td>0.007877</td>\n",
              "      <td>2.000000</td>\n",
              "      <td>0</td>\n",
              "    </tr>\n",
              "    <tr>\n",
              "      <th>5191</th>\n",
              "      <td>800</td>\n",
              "      <td>5171</td>\n",
              "      <td>4</td>\n",
              "      <td>0.0</td>\n",
              "      <td>0.0</td>\n",
              "      <td>0.0</td>\n",
              "      <td>0.000101</td>\n",
              "      <td>-0.008127</td>\n",
              "      <td>299.000000</td>\n",
              "      <td>0</td>\n",
              "    </tr>\n",
              "    <tr>\n",
              "      <th>5390</th>\n",
              "      <td>609</td>\n",
              "      <td>2031</td>\n",
              "      <td>1</td>\n",
              "      <td>0.0</td>\n",
              "      <td>0.0</td>\n",
              "      <td>0.0</td>\n",
              "      <td>0.000098</td>\n",
              "      <td>0.009598</td>\n",
              "      <td>7.000000</td>\n",
              "      <td>0</td>\n",
              "    </tr>\n",
              "    <tr>\n",
              "      <th>860</th>\n",
              "      <td>2610</td>\n",
              "      <td>6516</td>\n",
              "      <td>6</td>\n",
              "      <td>0.0</td>\n",
              "      <td>0.0</td>\n",
              "      <td>0.0</td>\n",
              "      <td>0.000295</td>\n",
              "      <td>0.009932</td>\n",
              "      <td>2.666667</td>\n",
              "      <td>0</td>\n",
              "    </tr>\n",
              "    <tr>\n",
              "      <th>7270</th>\n",
              "      <td>2024</td>\n",
              "      <td>3785</td>\n",
              "      <td>8</td>\n",
              "      <td>0.0</td>\n",
              "      <td>0.0</td>\n",
              "      <td>0.0</td>\n",
              "      <td>0.000157</td>\n",
              "      <td>-0.006605</td>\n",
              "      <td>153.000000</td>\n",
              "      <td>0</td>\n",
              "    </tr>\n",
              "  </tbody>\n",
              "</table>\n",
              "<p>8921 rows × 10 columns</p>\n",
              "</div>\n",
              "      <button class=\"colab-df-convert\" onclick=\"convertToInteractive('df-31991395-deba-4501-97e1-39adfaa8a341')\"\n",
              "              title=\"Convert this dataframe to an interactive table.\"\n",
              "              style=\"display:none;\">\n",
              "        \n",
              "  <svg xmlns=\"http://www.w3.org/2000/svg\" height=\"24px\"viewBox=\"0 0 24 24\"\n",
              "       width=\"24px\">\n",
              "    <path d=\"M0 0h24v24H0V0z\" fill=\"none\"/>\n",
              "    <path d=\"M18.56 5.44l.94 2.06.94-2.06 2.06-.94-2.06-.94-.94-2.06-.94 2.06-2.06.94zm-11 1L8.5 8.5l.94-2.06 2.06-.94-2.06-.94L8.5 2.5l-.94 2.06-2.06.94zm10 10l.94 2.06.94-2.06 2.06-.94-2.06-.94-.94-2.06-.94 2.06-2.06.94z\"/><path d=\"M17.41 7.96l-1.37-1.37c-.4-.4-.92-.59-1.43-.59-.52 0-1.04.2-1.43.59L10.3 9.45l-7.72 7.72c-.78.78-.78 2.05 0 2.83L4 21.41c.39.39.9.59 1.41.59.51 0 1.02-.2 1.41-.59l7.78-7.78 2.81-2.81c.8-.78.8-2.07 0-2.86zM5.41 20L4 18.59l7.72-7.72 1.47 1.35L5.41 20z\"/>\n",
              "  </svg>\n",
              "      </button>\n",
              "      \n",
              "  <style>\n",
              "    .colab-df-container {\n",
              "      display:flex;\n",
              "      flex-wrap:wrap;\n",
              "      gap: 12px;\n",
              "    }\n",
              "\n",
              "    .colab-df-convert {\n",
              "      background-color: #E8F0FE;\n",
              "      border: none;\n",
              "      border-radius: 50%;\n",
              "      cursor: pointer;\n",
              "      display: none;\n",
              "      fill: #1967D2;\n",
              "      height: 32px;\n",
              "      padding: 0 0 0 0;\n",
              "      width: 32px;\n",
              "    }\n",
              "\n",
              "    .colab-df-convert:hover {\n",
              "      background-color: #E2EBFA;\n",
              "      box-shadow: 0px 1px 2px rgba(60, 64, 67, 0.3), 0px 1px 3px 1px rgba(60, 64, 67, 0.15);\n",
              "      fill: #174EA6;\n",
              "    }\n",
              "\n",
              "    [theme=dark] .colab-df-convert {\n",
              "      background-color: #3B4455;\n",
              "      fill: #D2E3FC;\n",
              "    }\n",
              "\n",
              "    [theme=dark] .colab-df-convert:hover {\n",
              "      background-color: #434B5C;\n",
              "      box-shadow: 0px 1px 3px 1px rgba(0, 0, 0, 0.15);\n",
              "      filter: drop-shadow(0px 1px 2px rgba(0, 0, 0, 0.3));\n",
              "      fill: #FFFFFF;\n",
              "    }\n",
              "  </style>\n",
              "\n",
              "      <script>\n",
              "        const buttonEl =\n",
              "          document.querySelector('#df-31991395-deba-4501-97e1-39adfaa8a341 button.colab-df-convert');\n",
              "        buttonEl.style.display =\n",
              "          google.colab.kernel.accessAllowed ? 'block' : 'none';\n",
              "\n",
              "        async function convertToInteractive(key) {\n",
              "          const element = document.querySelector('#df-31991395-deba-4501-97e1-39adfaa8a341');\n",
              "          const dataTable =\n",
              "            await google.colab.kernel.invokeFunction('convertToInteractive',\n",
              "                                                     [key], {});\n",
              "          if (!dataTable) return;\n",
              "\n",
              "          const docLinkHtml = 'Like what you see? Visit the ' +\n",
              "            '<a target=\"_blank\" href=https://colab.research.google.com/notebooks/data_table.ipynb>data table notebook</a>'\n",
              "            + ' to learn more about interactive tables.';\n",
              "          element.innerHTML = '';\n",
              "          dataTable['output_type'] = 'display_data';\n",
              "          await google.colab.output.renderOutput(dataTable, element);\n",
              "          const docLink = document.createElement('div');\n",
              "          docLink.innerHTML = docLinkHtml;\n",
              "          element.appendChild(docLink);\n",
              "        }\n",
              "      </script>\n",
              "    </div>\n",
              "  </div>\n",
              "  "
            ]
          },
          "metadata": {},
          "execution_count": 48
        }
      ]
    },
    {
      "cell_type": "code",
      "source": [
        "# coef_df = pd.DataFrame(coef_generator)\n",
        "#     X.insert(2, column_name, list(coef_df[2]), allow_duplicates = True)"
      ],
      "metadata": {
        "id": "H5iZZMnzuK25"
      },
      "execution_count": null,
      "outputs": []
    },
    {
      "cell_type": "code",
      "source": [
        "# tuple_list = list(X_train[['node','target']].itertuples(index=False, name=None))\n",
        "# coef_generator = nx.adamic_adar_index(G)"
      ],
      "metadata": {
        "id": "rapD8iGNsRf_"
      },
      "execution_count": null,
      "outputs": []
    },
    {
      "cell_type": "code",
      "source": [
        "aa = nx.adamic_adar_index(G)\n",
        "\n",
        "# create a dictionary to store the results\n",
        "aa_dict = {}\n",
        "for u, v, p in aa:\n",
        "    aa_dict[(u, v)] = p"
      ],
      "metadata": {
        "id": "QsQElX_ayNfb"
      },
      "execution_count": 79,
      "outputs": []
    },
    {
      "cell_type": "code",
      "source": [
        "X_train['adamic_adar_index'] = X_train.apply(lambda row: aa_dict.get((row['node'], row['target']), 0), axis=1)"
      ],
      "metadata": {
        "id": "QjDECAlmj6Hi"
      },
      "execution_count": null,
      "outputs": []
    },
    {
      "cell_type": "code",
      "source": [
        "X_test['adamic_adar_index'] = X_test.apply(lambda row: aa_dict.get((row['node'], row['target']), 0), axis=1)"
      ],
      "metadata": {
        "id": "DaK4Iazt3hBT"
      },
      "execution_count": 59,
      "outputs": []
    },
    {
      "cell_type": "code",
      "source": [
        "X_train"
      ],
      "metadata": {
        "id": "eL1Hf8Fw2G3O",
        "colab": {
          "base_uri": "https://localhost:8080/",
          "height": 483
        },
        "outputId": "bd6e04a2-f51f-496f-bd4e-d1e1053b39cc"
      },
      "execution_count": null,
      "outputs": [
        {
          "output_type": "execute_result",
          "data": {
            "text/plain": [
              "       node  target  preferential_attachment  jaccard_coefficient  \\\n",
              "4619   4616    7205                       10                  0.0   \n",
              "10414  2921    4098                        2                  0.0   \n",
              "9819   2827    5655                        3                  0.0   \n",
              "2157   3236    6799                       21                  0.0   \n",
              "3846   2909    4571                        3                  0.0   \n",
              "...     ...     ...                      ...                  ...   \n",
              "5734   2954    3004                        2                  0.0   \n",
              "5191    800    5171                        4                  0.0   \n",
              "5390    609    2031                        1                  0.0   \n",
              "860    2610    6516                        6                  0.0   \n",
              "7270   2024    3785                        8                  0.0   \n",
              "\n",
              "       resource_allocation_index  degree_centrality  betweenness_centrality  \\\n",
              "4619                         0.0           0.000191                0.000058   \n",
              "10414                        0.0           0.000191                0.000115   \n",
              "9819                         0.0           0.000286                0.000007   \n",
              "2157                         0.0           0.000286                0.000023   \n",
              "3846                         0.0           0.000095                0.000000   \n",
              "...                          ...                ...                     ...   \n",
              "5734                         0.0           0.000095                0.000000   \n",
              "5191                         0.0           0.000095                0.000000   \n",
              "5390                         0.0           0.000095                0.000000   \n",
              "860                          0.0           0.000286                0.000072   \n",
              "7270                         0.0           0.000191                0.000298   \n",
              "\n",
              "       closeness_centrality  eigenvector_centrality  clustering  pagerank  \\\n",
              "4619               0.038118            5.189791e-08         0.0  0.000215   \n",
              "10414              0.052175            3.493349e-05         0.0  0.000189   \n",
              "9819               0.051958            4.266455e-04         0.0  0.000199   \n",
              "2157               0.057994            2.918656e-03         0.0  0.000192   \n",
              "3846               0.053286            2.353392e-03         0.0  0.000103   \n",
              "...                     ...                     ...         ...       ...   \n",
              "5734               0.038761            5.076600e-07         0.0  0.000119   \n",
              "5191               0.064402            4.044902e-02         0.0  0.000101   \n",
              "5390               0.048885            5.397126e-05         0.0  0.000098   \n",
              "860                0.043479            1.818264e-05         0.0  0.000295   \n",
              "7270               0.064770            4.059973e-02         0.0  0.000157   \n",
              "\n",
              "       katz_centrality_numpy  average_neighbor_degree  triangles  \\\n",
              "4619                0.008998                 3.000000          0   \n",
              "10414               0.012144                10.500000          0   \n",
              "9819                0.013873                 5.000000          0   \n",
              "2157                0.016952                10.000000          0   \n",
              "3846                0.006404                 4.000000          0   \n",
              "...                      ...                      ...        ...   \n",
              "5734                0.007877                 2.000000          0   \n",
              "5191               -0.008127               299.000000          0   \n",
              "5390                0.009598                 7.000000          0   \n",
              "860                 0.009932                 2.666667          0   \n",
              "7270               -0.006605               153.000000          0   \n",
              "\n",
              "       adamic_adar_index  \n",
              "4619                 0.0  \n",
              "10414                0.0  \n",
              "9819                 0.0  \n",
              "2157                 0.0  \n",
              "3846                 0.0  \n",
              "...                  ...  \n",
              "5734                 0.0  \n",
              "5191                 0.0  \n",
              "5390                 0.0  \n",
              "860                  0.0  \n",
              "7270                 0.0  \n",
              "\n",
              "[8921 rows x 15 columns]"
            ],
            "text/html": [
              "\n",
              "  <div id=\"df-89f05522-f995-4814-b933-89dfd9291e68\">\n",
              "    <div class=\"colab-df-container\">\n",
              "      <div>\n",
              "<style scoped>\n",
              "    .dataframe tbody tr th:only-of-type {\n",
              "        vertical-align: middle;\n",
              "    }\n",
              "\n",
              "    .dataframe tbody tr th {\n",
              "        vertical-align: top;\n",
              "    }\n",
              "\n",
              "    .dataframe thead th {\n",
              "        text-align: right;\n",
              "    }\n",
              "</style>\n",
              "<table border=\"1\" class=\"dataframe\">\n",
              "  <thead>\n",
              "    <tr style=\"text-align: right;\">\n",
              "      <th></th>\n",
              "      <th>node</th>\n",
              "      <th>target</th>\n",
              "      <th>preferential_attachment</th>\n",
              "      <th>jaccard_coefficient</th>\n",
              "      <th>resource_allocation_index</th>\n",
              "      <th>degree_centrality</th>\n",
              "      <th>betweenness_centrality</th>\n",
              "      <th>closeness_centrality</th>\n",
              "      <th>eigenvector_centrality</th>\n",
              "      <th>clustering</th>\n",
              "      <th>pagerank</th>\n",
              "      <th>katz_centrality_numpy</th>\n",
              "      <th>average_neighbor_degree</th>\n",
              "      <th>triangles</th>\n",
              "      <th>adamic_adar_index</th>\n",
              "    </tr>\n",
              "  </thead>\n",
              "  <tbody>\n",
              "    <tr>\n",
              "      <th>4619</th>\n",
              "      <td>4616</td>\n",
              "      <td>7205</td>\n",
              "      <td>10</td>\n",
              "      <td>0.0</td>\n",
              "      <td>0.0</td>\n",
              "      <td>0.000191</td>\n",
              "      <td>0.000058</td>\n",
              "      <td>0.038118</td>\n",
              "      <td>5.189791e-08</td>\n",
              "      <td>0.0</td>\n",
              "      <td>0.000215</td>\n",
              "      <td>0.008998</td>\n",
              "      <td>3.000000</td>\n",
              "      <td>0</td>\n",
              "      <td>0.0</td>\n",
              "    </tr>\n",
              "    <tr>\n",
              "      <th>10414</th>\n",
              "      <td>2921</td>\n",
              "      <td>4098</td>\n",
              "      <td>2</td>\n",
              "      <td>0.0</td>\n",
              "      <td>0.0</td>\n",
              "      <td>0.000191</td>\n",
              "      <td>0.000115</td>\n",
              "      <td>0.052175</td>\n",
              "      <td>3.493349e-05</td>\n",
              "      <td>0.0</td>\n",
              "      <td>0.000189</td>\n",
              "      <td>0.012144</td>\n",
              "      <td>10.500000</td>\n",
              "      <td>0</td>\n",
              "      <td>0.0</td>\n",
              "    </tr>\n",
              "    <tr>\n",
              "      <th>9819</th>\n",
              "      <td>2827</td>\n",
              "      <td>5655</td>\n",
              "      <td>3</td>\n",
              "      <td>0.0</td>\n",
              "      <td>0.0</td>\n",
              "      <td>0.000286</td>\n",
              "      <td>0.000007</td>\n",
              "      <td>0.051958</td>\n",
              "      <td>4.266455e-04</td>\n",
              "      <td>0.0</td>\n",
              "      <td>0.000199</td>\n",
              "      <td>0.013873</td>\n",
              "      <td>5.000000</td>\n",
              "      <td>0</td>\n",
              "      <td>0.0</td>\n",
              "    </tr>\n",
              "    <tr>\n",
              "      <th>2157</th>\n",
              "      <td>3236</td>\n",
              "      <td>6799</td>\n",
              "      <td>21</td>\n",
              "      <td>0.0</td>\n",
              "      <td>0.0</td>\n",
              "      <td>0.000286</td>\n",
              "      <td>0.000023</td>\n",
              "      <td>0.057994</td>\n",
              "      <td>2.918656e-03</td>\n",
              "      <td>0.0</td>\n",
              "      <td>0.000192</td>\n",
              "      <td>0.016952</td>\n",
              "      <td>10.000000</td>\n",
              "      <td>0</td>\n",
              "      <td>0.0</td>\n",
              "    </tr>\n",
              "    <tr>\n",
              "      <th>3846</th>\n",
              "      <td>2909</td>\n",
              "      <td>4571</td>\n",
              "      <td>3</td>\n",
              "      <td>0.0</td>\n",
              "      <td>0.0</td>\n",
              "      <td>0.000095</td>\n",
              "      <td>0.000000</td>\n",
              "      <td>0.053286</td>\n",
              "      <td>2.353392e-03</td>\n",
              "      <td>0.0</td>\n",
              "      <td>0.000103</td>\n",
              "      <td>0.006404</td>\n",
              "      <td>4.000000</td>\n",
              "      <td>0</td>\n",
              "      <td>0.0</td>\n",
              "    </tr>\n",
              "    <tr>\n",
              "      <th>...</th>\n",
              "      <td>...</td>\n",
              "      <td>...</td>\n",
              "      <td>...</td>\n",
              "      <td>...</td>\n",
              "      <td>...</td>\n",
              "      <td>...</td>\n",
              "      <td>...</td>\n",
              "      <td>...</td>\n",
              "      <td>...</td>\n",
              "      <td>...</td>\n",
              "      <td>...</td>\n",
              "      <td>...</td>\n",
              "      <td>...</td>\n",
              "      <td>...</td>\n",
              "      <td>...</td>\n",
              "    </tr>\n",
              "    <tr>\n",
              "      <th>5734</th>\n",
              "      <td>2954</td>\n",
              "      <td>3004</td>\n",
              "      <td>2</td>\n",
              "      <td>0.0</td>\n",
              "      <td>0.0</td>\n",
              "      <td>0.000095</td>\n",
              "      <td>0.000000</td>\n",
              "      <td>0.038761</td>\n",
              "      <td>5.076600e-07</td>\n",
              "      <td>0.0</td>\n",
              "      <td>0.000119</td>\n",
              "      <td>0.007877</td>\n",
              "      <td>2.000000</td>\n",
              "      <td>0</td>\n",
              "      <td>0.0</td>\n",
              "    </tr>\n",
              "    <tr>\n",
              "      <th>5191</th>\n",
              "      <td>800</td>\n",
              "      <td>5171</td>\n",
              "      <td>4</td>\n",
              "      <td>0.0</td>\n",
              "      <td>0.0</td>\n",
              "      <td>0.000095</td>\n",
              "      <td>0.000000</td>\n",
              "      <td>0.064402</td>\n",
              "      <td>4.044902e-02</td>\n",
              "      <td>0.0</td>\n",
              "      <td>0.000101</td>\n",
              "      <td>-0.008127</td>\n",
              "      <td>299.000000</td>\n",
              "      <td>0</td>\n",
              "      <td>0.0</td>\n",
              "    </tr>\n",
              "    <tr>\n",
              "      <th>5390</th>\n",
              "      <td>609</td>\n",
              "      <td>2031</td>\n",
              "      <td>1</td>\n",
              "      <td>0.0</td>\n",
              "      <td>0.0</td>\n",
              "      <td>0.000095</td>\n",
              "      <td>0.000000</td>\n",
              "      <td>0.048885</td>\n",
              "      <td>5.397126e-05</td>\n",
              "      <td>0.0</td>\n",
              "      <td>0.000098</td>\n",
              "      <td>0.009598</td>\n",
              "      <td>7.000000</td>\n",
              "      <td>0</td>\n",
              "      <td>0.0</td>\n",
              "    </tr>\n",
              "    <tr>\n",
              "      <th>860</th>\n",
              "      <td>2610</td>\n",
              "      <td>6516</td>\n",
              "      <td>6</td>\n",
              "      <td>0.0</td>\n",
              "      <td>0.0</td>\n",
              "      <td>0.000286</td>\n",
              "      <td>0.000072</td>\n",
              "      <td>0.043479</td>\n",
              "      <td>1.818264e-05</td>\n",
              "      <td>0.0</td>\n",
              "      <td>0.000295</td>\n",
              "      <td>0.009932</td>\n",
              "      <td>2.666667</td>\n",
              "      <td>0</td>\n",
              "      <td>0.0</td>\n",
              "    </tr>\n",
              "    <tr>\n",
              "      <th>7270</th>\n",
              "      <td>2024</td>\n",
              "      <td>3785</td>\n",
              "      <td>8</td>\n",
              "      <td>0.0</td>\n",
              "      <td>0.0</td>\n",
              "      <td>0.000191</td>\n",
              "      <td>0.000298</td>\n",
              "      <td>0.064770</td>\n",
              "      <td>4.059973e-02</td>\n",
              "      <td>0.0</td>\n",
              "      <td>0.000157</td>\n",
              "      <td>-0.006605</td>\n",
              "      <td>153.000000</td>\n",
              "      <td>0</td>\n",
              "      <td>0.0</td>\n",
              "    </tr>\n",
              "  </tbody>\n",
              "</table>\n",
              "<p>8921 rows × 15 columns</p>\n",
              "</div>\n",
              "      <button class=\"colab-df-convert\" onclick=\"convertToInteractive('df-89f05522-f995-4814-b933-89dfd9291e68')\"\n",
              "              title=\"Convert this dataframe to an interactive table.\"\n",
              "              style=\"display:none;\">\n",
              "        \n",
              "  <svg xmlns=\"http://www.w3.org/2000/svg\" height=\"24px\"viewBox=\"0 0 24 24\"\n",
              "       width=\"24px\">\n",
              "    <path d=\"M0 0h24v24H0V0z\" fill=\"none\"/>\n",
              "    <path d=\"M18.56 5.44l.94 2.06.94-2.06 2.06-.94-2.06-.94-.94-2.06-.94 2.06-2.06.94zm-11 1L8.5 8.5l.94-2.06 2.06-.94-2.06-.94L8.5 2.5l-.94 2.06-2.06.94zm10 10l.94 2.06.94-2.06 2.06-.94-2.06-.94-.94-2.06-.94 2.06-2.06.94z\"/><path d=\"M17.41 7.96l-1.37-1.37c-.4-.4-.92-.59-1.43-.59-.52 0-1.04.2-1.43.59L10.3 9.45l-7.72 7.72c-.78.78-.78 2.05 0 2.83L4 21.41c.39.39.9.59 1.41.59.51 0 1.02-.2 1.41-.59l7.78-7.78 2.81-2.81c.8-.78.8-2.07 0-2.86zM5.41 20L4 18.59l7.72-7.72 1.47 1.35L5.41 20z\"/>\n",
              "  </svg>\n",
              "      </button>\n",
              "      \n",
              "  <style>\n",
              "    .colab-df-container {\n",
              "      display:flex;\n",
              "      flex-wrap:wrap;\n",
              "      gap: 12px;\n",
              "    }\n",
              "\n",
              "    .colab-df-convert {\n",
              "      background-color: #E8F0FE;\n",
              "      border: none;\n",
              "      border-radius: 50%;\n",
              "      cursor: pointer;\n",
              "      display: none;\n",
              "      fill: #1967D2;\n",
              "      height: 32px;\n",
              "      padding: 0 0 0 0;\n",
              "      width: 32px;\n",
              "    }\n",
              "\n",
              "    .colab-df-convert:hover {\n",
              "      background-color: #E2EBFA;\n",
              "      box-shadow: 0px 1px 2px rgba(60, 64, 67, 0.3), 0px 1px 3px 1px rgba(60, 64, 67, 0.15);\n",
              "      fill: #174EA6;\n",
              "    }\n",
              "\n",
              "    [theme=dark] .colab-df-convert {\n",
              "      background-color: #3B4455;\n",
              "      fill: #D2E3FC;\n",
              "    }\n",
              "\n",
              "    [theme=dark] .colab-df-convert:hover {\n",
              "      background-color: #434B5C;\n",
              "      box-shadow: 0px 1px 3px 1px rgba(0, 0, 0, 0.15);\n",
              "      filter: drop-shadow(0px 1px 2px rgba(0, 0, 0, 0.3));\n",
              "      fill: #FFFFFF;\n",
              "    }\n",
              "  </style>\n",
              "\n",
              "      <script>\n",
              "        const buttonEl =\n",
              "          document.querySelector('#df-89f05522-f995-4814-b933-89dfd9291e68 button.colab-df-convert');\n",
              "        buttonEl.style.display =\n",
              "          google.colab.kernel.accessAllowed ? 'block' : 'none';\n",
              "\n",
              "        async function convertToInteractive(key) {\n",
              "          const element = document.querySelector('#df-89f05522-f995-4814-b933-89dfd9291e68');\n",
              "          const dataTable =\n",
              "            await google.colab.kernel.invokeFunction('convertToInteractive',\n",
              "                                                     [key], {});\n",
              "          if (!dataTable) return;\n",
              "\n",
              "          const docLinkHtml = 'Like what you see? Visit the ' +\n",
              "            '<a target=\"_blank\" href=https://colab.research.google.com/notebooks/data_table.ipynb>data table notebook</a>'\n",
              "            + ' to learn more about interactive tables.';\n",
              "          element.innerHTML = '';\n",
              "          dataTable['output_type'] = 'display_data';\n",
              "          await google.colab.output.renderOutput(dataTable, element);\n",
              "          const docLink = document.createElement('div');\n",
              "          docLink.innerHTML = docLinkHtml;\n",
              "          element.appendChild(docLink);\n",
              "        }\n",
              "      </script>\n",
              "    </div>\n",
              "  </div>\n",
              "  "
            ]
          },
          "metadata": {},
          "execution_count": 16
        }
      ]
    },
    {
      "cell_type": "code",
      "source": [],
      "metadata": {
        "id": "CRwYeVwlOXZg"
      },
      "execution_count": null,
      "outputs": []
    },
    {
      "cell_type": "code",
      "source": [],
      "metadata": {
        "id": "RctonfGBOXXa"
      },
      "execution_count": null,
      "outputs": []
    },
    {
      "cell_type": "code",
      "source": [],
      "metadata": {
        "id": "cY4BgnanOXU3"
      },
      "execution_count": null,
      "outputs": []
    },
    {
      "cell_type": "code",
      "source": [
        "def XGB(LR = 0.0001, n_est = 10000, max_d = 5, min_c = 1, gm = 0, colsample = 0.8, subs = 1, lambd = 0 , alpha = 0):\n",
        "   \n",
        "    xgb_model = XGBClassifier( learning_rate=LR,\n",
        "                                            n_estimators=n_est,\n",
        "                                            max_depth=max_d,\n",
        "                                            min_child_weight=min_c,                         \n",
        "                                            gamma=gm,\n",
        "                                            colsample_bytree=colsample,\n",
        "                                            subsample=subs,\n",
        "                                            objective ='binary:logistic',                   \n",
        "                                            reg_lambda=lambd,\n",
        "                                            reg_alpha=alpha,\n",
        "                                            scale_pos_weight = 1,\n",
        "                                            tree_method='gpu_hist',\n",
        "                                            seed=42)\n",
        "\n",
        "\n",
        "    xgb_model.fit(X_train,y_train)\n",
        "    y_pred_train = xgb_model.predict(X_train)\n",
        "    y_pred = xgb_model.predict(X_test)\n",
        "\n",
        "\n",
        "    print('performance over the training set: ' + str(f1_score(y_train, y_pred_train)))\n",
        "    print('performance over the test set: ' + str(f1_score(y_test, y_pred)) + '\\n')\n",
        "    print(classification_report(y_test, y_pred))"
      ],
      "metadata": {
        "id": "ktdL2bOaigDm"
      },
      "execution_count": 60,
      "outputs": []
    },
    {
      "cell_type": "code",
      "source": [
        "def XGB_tuning (LR = 0.1, n_est = 1000, max_d = 5, min_c = 1, gm = 0, colsample = 0.8, subs = 1,\n",
        "                lambd = 0, alpha = 0, param_test = {'learning_rate':[i/100.0 for i in range(5,20,2)]} ):\n",
        "    \n",
        "    gsearch = GridSearchCV(estimator = XGBClassifier( learning_rate=LR, \n",
        "                                                    n_estimators=n_est,\n",
        "                                                    max_depth=max_d,\n",
        "                                                    min_child_weight=min_c,                         \n",
        "                                                    gamma=gm,\n",
        "                                                    colsample_bytree=colsample,\n",
        "                                                    subsample = subs,\n",
        "                                                    objective ='binary:logistic',\n",
        "                                                    reg_lambda=lambd,\n",
        "                                                    reg_alpha=alpha,\n",
        "                                                    scale_pos_weight = 1,\n",
        "                                                    tree_method='gpu_hist',\n",
        "                                                    seed=42), \n",
        "                            param_grid = param_test, \n",
        "                            scoring='f1',\n",
        "                            n_jobs=4, \n",
        "                            cv=3)\n",
        "\n",
        "\n",
        "    gsearch.fit(X_train, y_train)\n",
        "    return gsearch"
      ],
      "metadata": {
        "id": "gIVH4_fgADZg"
      },
      "execution_count": 61,
      "outputs": []
    },
    {
      "cell_type": "code",
      "source": [
        "# STEP 1 - First XGB - A little bit overfitted, but could improve more the training set\n",
        "LearningRate = 0.0001\n",
        "n_estimators = 10000\n",
        "\n",
        "# Fix Learning Rate and n_estimators\n",
        "XGB(LearningRate, n_estimators)"
      ],
      "metadata": {
        "colab": {
          "base_uri": "https://localhost:8080/"
        },
        "id": "Z09tDfX1AJ3x",
        "outputId": "cbef4a53-5132-459d-9d75-655d5c841802"
      },
      "execution_count": 62,
      "outputs": [
        {
          "output_type": "stream",
          "name": "stdout",
          "text": [
            "performance over the training set: 0.800177422931914\n",
            "performance over the test set: 0.5391566265060241\n",
            "\n",
            "              precision    recall  f1-score   support\n",
            "\n",
            "           0       0.58      0.77      0.66       783\n",
            "           1       0.67      0.45      0.54       792\n",
            "\n",
            "    accuracy                           0.61      1575\n",
            "   macro avg       0.63      0.61      0.60      1575\n",
            "weighted avg       0.63      0.61      0.60      1575\n",
            "\n"
          ]
        }
      ]
    },
    {
      "cell_type": "code",
      "source": [
        "# STEP 2 - Tuning max_depth and min_child_weight\n",
        "\n",
        "parameters_test = {\n",
        "    'max_depth':range(3,9,2),\n",
        "    'min_child_weight':range(1,7,2)\n",
        "}\n",
        "\n",
        "gsearch2 = XGB_tuning (LR = LearningRate, n_est = n_estimators, param_test=parameters_test)\n",
        "best_max_depth, best_min_child_weight = gsearch2.best_params_['max_depth'], gsearch2.best_params_['min_child_weight']\n",
        "print(f\"{gsearch2.best_params_} CV_Score: {gsearch2.best_score_}\")\n",
        "\n",
        "# Evaluation\n",
        "XGB(LR = LearningRate, n_est = n_estimators, max_d=best_max_depth, min_c= best_min_child_weight)"
      ],
      "metadata": {
        "colab": {
          "base_uri": "https://localhost:8080/",
          "height": 375
        },
        "id": "Th0iCUnuB1xd",
        "outputId": "324aff3d-2676-45c7-9ae9-b6153a3e0192"
      },
      "execution_count": 63,
      "outputs": [
        {
          "output_type": "error",
          "ename": "KeyboardInterrupt",
          "evalue": "ignored",
          "traceback": [
            "\u001b[0;31m---------------------------------------------------------------------------\u001b[0m",
            "\u001b[0;31mKeyboardInterrupt\u001b[0m                         Traceback (most recent call last)",
            "\u001b[0;32m<ipython-input-63-71609bd2ee58>\u001b[0m in \u001b[0;36m<module>\u001b[0;34m\u001b[0m\n\u001b[1;32m      6\u001b[0m }\n\u001b[1;32m      7\u001b[0m \u001b[0;34m\u001b[0m\u001b[0m\n\u001b[0;32m----> 8\u001b[0;31m \u001b[0mgsearch2\u001b[0m \u001b[0;34m=\u001b[0m \u001b[0mXGB_tuning\u001b[0m \u001b[0;34m(\u001b[0m\u001b[0mLR\u001b[0m \u001b[0;34m=\u001b[0m \u001b[0mLearningRate\u001b[0m\u001b[0;34m,\u001b[0m \u001b[0mn_est\u001b[0m \u001b[0;34m=\u001b[0m \u001b[0mn_estimators\u001b[0m\u001b[0;34m,\u001b[0m \u001b[0mparam_test\u001b[0m\u001b[0;34m=\u001b[0m\u001b[0mparameters_test\u001b[0m\u001b[0;34m)\u001b[0m\u001b[0;34m\u001b[0m\u001b[0;34m\u001b[0m\u001b[0m\n\u001b[0m\u001b[1;32m      9\u001b[0m \u001b[0mbest_max_depth\u001b[0m\u001b[0;34m,\u001b[0m \u001b[0mbest_min_child_weight\u001b[0m \u001b[0;34m=\u001b[0m \u001b[0mgsearch2\u001b[0m\u001b[0;34m.\u001b[0m\u001b[0mbest_params_\u001b[0m\u001b[0;34m[\u001b[0m\u001b[0;34m'max_depth'\u001b[0m\u001b[0;34m]\u001b[0m\u001b[0;34m,\u001b[0m \u001b[0mgsearch2\u001b[0m\u001b[0;34m.\u001b[0m\u001b[0mbest_params_\u001b[0m\u001b[0;34m[\u001b[0m\u001b[0;34m'min_child_weight'\u001b[0m\u001b[0;34m]\u001b[0m\u001b[0;34m\u001b[0m\u001b[0;34m\u001b[0m\u001b[0m\n\u001b[1;32m     10\u001b[0m \u001b[0mprint\u001b[0m\u001b[0;34m(\u001b[0m\u001b[0;34mf\"{gsearch2.best_params_} CV_Score: {gsearch2.best_score_}\"\u001b[0m\u001b[0;34m)\u001b[0m\u001b[0;34m\u001b[0m\u001b[0;34m\u001b[0m\u001b[0m\n",
            "\u001b[0;32m<ipython-input-61-951a540b3a6f>\u001b[0m in \u001b[0;36mXGB_tuning\u001b[0;34m(LR, n_est, max_d, min_c, gm, colsample, subs, lambd, alpha, param_test)\u001b[0m\n\u001b[1;32m     21\u001b[0m \u001b[0;34m\u001b[0m\u001b[0m\n\u001b[1;32m     22\u001b[0m \u001b[0;34m\u001b[0m\u001b[0m\n\u001b[0;32m---> 23\u001b[0;31m     \u001b[0mgsearch\u001b[0m\u001b[0;34m.\u001b[0m\u001b[0mfit\u001b[0m\u001b[0;34m(\u001b[0m\u001b[0mX_train\u001b[0m\u001b[0;34m,\u001b[0m \u001b[0my_train\u001b[0m\u001b[0;34m)\u001b[0m\u001b[0;34m\u001b[0m\u001b[0;34m\u001b[0m\u001b[0m\n\u001b[0m\u001b[1;32m     24\u001b[0m     \u001b[0;32mreturn\u001b[0m \u001b[0mgsearch\u001b[0m\u001b[0;34m\u001b[0m\u001b[0;34m\u001b[0m\u001b[0m\n",
            "\u001b[0;32m/usr/local/lib/python3.9/dist-packages/sklearn/model_selection/_search.py\u001b[0m in \u001b[0;36mfit\u001b[0;34m(self, X, y, groups, **fit_params)\u001b[0m\n\u001b[1;32m    872\u001b[0m                 \u001b[0;32mreturn\u001b[0m \u001b[0mresults\u001b[0m\u001b[0;34m\u001b[0m\u001b[0;34m\u001b[0m\u001b[0m\n\u001b[1;32m    873\u001b[0m \u001b[0;34m\u001b[0m\u001b[0m\n\u001b[0;32m--> 874\u001b[0;31m             \u001b[0mself\u001b[0m\u001b[0;34m.\u001b[0m\u001b[0m_run_search\u001b[0m\u001b[0;34m(\u001b[0m\u001b[0mevaluate_candidates\u001b[0m\u001b[0;34m)\u001b[0m\u001b[0;34m\u001b[0m\u001b[0;34m\u001b[0m\u001b[0m\n\u001b[0m\u001b[1;32m    875\u001b[0m \u001b[0;34m\u001b[0m\u001b[0m\n\u001b[1;32m    876\u001b[0m             \u001b[0;31m# multimetric is determined here because in the case of a callable\u001b[0m\u001b[0;34m\u001b[0m\u001b[0;34m\u001b[0m\u001b[0m\n",
            "\u001b[0;32m/usr/local/lib/python3.9/dist-packages/sklearn/model_selection/_search.py\u001b[0m in \u001b[0;36m_run_search\u001b[0;34m(self, evaluate_candidates)\u001b[0m\n\u001b[1;32m   1386\u001b[0m     \u001b[0;32mdef\u001b[0m \u001b[0m_run_search\u001b[0m\u001b[0;34m(\u001b[0m\u001b[0mself\u001b[0m\u001b[0;34m,\u001b[0m \u001b[0mevaluate_candidates\u001b[0m\u001b[0;34m)\u001b[0m\u001b[0;34m:\u001b[0m\u001b[0;34m\u001b[0m\u001b[0;34m\u001b[0m\u001b[0m\n\u001b[1;32m   1387\u001b[0m         \u001b[0;34m\"\"\"Search all candidates in param_grid\"\"\"\u001b[0m\u001b[0;34m\u001b[0m\u001b[0;34m\u001b[0m\u001b[0m\n\u001b[0;32m-> 1388\u001b[0;31m         \u001b[0mevaluate_candidates\u001b[0m\u001b[0;34m(\u001b[0m\u001b[0mParameterGrid\u001b[0m\u001b[0;34m(\u001b[0m\u001b[0mself\u001b[0m\u001b[0;34m.\u001b[0m\u001b[0mparam_grid\u001b[0m\u001b[0;34m)\u001b[0m\u001b[0;34m)\u001b[0m\u001b[0;34m\u001b[0m\u001b[0;34m\u001b[0m\u001b[0m\n\u001b[0m\u001b[1;32m   1389\u001b[0m \u001b[0;34m\u001b[0m\u001b[0m\n\u001b[1;32m   1390\u001b[0m \u001b[0;34m\u001b[0m\u001b[0m\n",
            "\u001b[0;32m/usr/local/lib/python3.9/dist-packages/sklearn/model_selection/_search.py\u001b[0m in \u001b[0;36mevaluate_candidates\u001b[0;34m(candidate_params, cv, more_results)\u001b[0m\n\u001b[1;32m    819\u001b[0m                     )\n\u001b[1;32m    820\u001b[0m \u001b[0;34m\u001b[0m\u001b[0m\n\u001b[0;32m--> 821\u001b[0;31m                 out = parallel(\n\u001b[0m\u001b[1;32m    822\u001b[0m                     delayed(_fit_and_score)(\n\u001b[1;32m    823\u001b[0m                         \u001b[0mclone\u001b[0m\u001b[0;34m(\u001b[0m\u001b[0mbase_estimator\u001b[0m\u001b[0;34m)\u001b[0m\u001b[0;34m,\u001b[0m\u001b[0;34m\u001b[0m\u001b[0;34m\u001b[0m\u001b[0m\n",
            "\u001b[0;32m/usr/local/lib/python3.9/dist-packages/sklearn/utils/parallel.py\u001b[0m in \u001b[0;36m__call__\u001b[0;34m(self, iterable)\u001b[0m\n\u001b[1;32m     61\u001b[0m             \u001b[0;32mfor\u001b[0m \u001b[0mdelayed_func\u001b[0m\u001b[0;34m,\u001b[0m \u001b[0margs\u001b[0m\u001b[0;34m,\u001b[0m \u001b[0mkwargs\u001b[0m \u001b[0;32min\u001b[0m \u001b[0miterable\u001b[0m\u001b[0;34m\u001b[0m\u001b[0;34m\u001b[0m\u001b[0m\n\u001b[1;32m     62\u001b[0m         )\n\u001b[0;32m---> 63\u001b[0;31m         \u001b[0;32mreturn\u001b[0m \u001b[0msuper\u001b[0m\u001b[0;34m(\u001b[0m\u001b[0;34m)\u001b[0m\u001b[0;34m.\u001b[0m\u001b[0m__call__\u001b[0m\u001b[0;34m(\u001b[0m\u001b[0miterable_with_config\u001b[0m\u001b[0;34m)\u001b[0m\u001b[0;34m\u001b[0m\u001b[0;34m\u001b[0m\u001b[0m\n\u001b[0m\u001b[1;32m     64\u001b[0m \u001b[0;34m\u001b[0m\u001b[0m\n\u001b[1;32m     65\u001b[0m \u001b[0;34m\u001b[0m\u001b[0m\n",
            "\u001b[0;32m/usr/local/lib/python3.9/dist-packages/joblib/parallel.py\u001b[0m in \u001b[0;36m__call__\u001b[0;34m(self, iterable)\u001b[0m\n\u001b[1;32m   1059\u001b[0m \u001b[0;34m\u001b[0m\u001b[0m\n\u001b[1;32m   1060\u001b[0m             \u001b[0;32mwith\u001b[0m \u001b[0mself\u001b[0m\u001b[0;34m.\u001b[0m\u001b[0m_backend\u001b[0m\u001b[0;34m.\u001b[0m\u001b[0mretrieval_context\u001b[0m\u001b[0;34m(\u001b[0m\u001b[0;34m)\u001b[0m\u001b[0;34m:\u001b[0m\u001b[0;34m\u001b[0m\u001b[0;34m\u001b[0m\u001b[0m\n\u001b[0;32m-> 1061\u001b[0;31m                 \u001b[0mself\u001b[0m\u001b[0;34m.\u001b[0m\u001b[0mretrieve\u001b[0m\u001b[0;34m(\u001b[0m\u001b[0;34m)\u001b[0m\u001b[0;34m\u001b[0m\u001b[0;34m\u001b[0m\u001b[0m\n\u001b[0m\u001b[1;32m   1062\u001b[0m             \u001b[0;31m# Make sure that we get a last message telling us we are done\u001b[0m\u001b[0;34m\u001b[0m\u001b[0;34m\u001b[0m\u001b[0m\n\u001b[1;32m   1063\u001b[0m             \u001b[0melapsed_time\u001b[0m \u001b[0;34m=\u001b[0m \u001b[0mtime\u001b[0m\u001b[0;34m.\u001b[0m\u001b[0mtime\u001b[0m\u001b[0;34m(\u001b[0m\u001b[0;34m)\u001b[0m \u001b[0;34m-\u001b[0m \u001b[0mself\u001b[0m\u001b[0;34m.\u001b[0m\u001b[0m_start_time\u001b[0m\u001b[0;34m\u001b[0m\u001b[0;34m\u001b[0m\u001b[0m\n",
            "\u001b[0;32m/usr/local/lib/python3.9/dist-packages/joblib/parallel.py\u001b[0m in \u001b[0;36mretrieve\u001b[0;34m(self)\u001b[0m\n\u001b[1;32m    936\u001b[0m             \u001b[0;32mtry\u001b[0m\u001b[0;34m:\u001b[0m\u001b[0;34m\u001b[0m\u001b[0;34m\u001b[0m\u001b[0m\n\u001b[1;32m    937\u001b[0m                 \u001b[0;32mif\u001b[0m \u001b[0mgetattr\u001b[0m\u001b[0;34m(\u001b[0m\u001b[0mself\u001b[0m\u001b[0;34m.\u001b[0m\u001b[0m_backend\u001b[0m\u001b[0;34m,\u001b[0m \u001b[0;34m'supports_timeout'\u001b[0m\u001b[0;34m,\u001b[0m \u001b[0;32mFalse\u001b[0m\u001b[0;34m)\u001b[0m\u001b[0;34m:\u001b[0m\u001b[0;34m\u001b[0m\u001b[0;34m\u001b[0m\u001b[0m\n\u001b[0;32m--> 938\u001b[0;31m                     \u001b[0mself\u001b[0m\u001b[0;34m.\u001b[0m\u001b[0m_output\u001b[0m\u001b[0;34m.\u001b[0m\u001b[0mextend\u001b[0m\u001b[0;34m(\u001b[0m\u001b[0mjob\u001b[0m\u001b[0;34m.\u001b[0m\u001b[0mget\u001b[0m\u001b[0;34m(\u001b[0m\u001b[0mtimeout\u001b[0m\u001b[0;34m=\u001b[0m\u001b[0mself\u001b[0m\u001b[0;34m.\u001b[0m\u001b[0mtimeout\u001b[0m\u001b[0;34m)\u001b[0m\u001b[0;34m)\u001b[0m\u001b[0;34m\u001b[0m\u001b[0;34m\u001b[0m\u001b[0m\n\u001b[0m\u001b[1;32m    939\u001b[0m                 \u001b[0;32melse\u001b[0m\u001b[0;34m:\u001b[0m\u001b[0;34m\u001b[0m\u001b[0;34m\u001b[0m\u001b[0m\n\u001b[1;32m    940\u001b[0m                     \u001b[0mself\u001b[0m\u001b[0;34m.\u001b[0m\u001b[0m_output\u001b[0m\u001b[0;34m.\u001b[0m\u001b[0mextend\u001b[0m\u001b[0;34m(\u001b[0m\u001b[0mjob\u001b[0m\u001b[0;34m.\u001b[0m\u001b[0mget\u001b[0m\u001b[0;34m(\u001b[0m\u001b[0;34m)\u001b[0m\u001b[0;34m)\u001b[0m\u001b[0;34m\u001b[0m\u001b[0;34m\u001b[0m\u001b[0m\n",
            "\u001b[0;32m/usr/local/lib/python3.9/dist-packages/joblib/_parallel_backends.py\u001b[0m in \u001b[0;36mwrap_future_result\u001b[0;34m(future, timeout)\u001b[0m\n\u001b[1;32m    540\u001b[0m         AsyncResults.get from multiprocessing.\"\"\"\n\u001b[1;32m    541\u001b[0m         \u001b[0;32mtry\u001b[0m\u001b[0;34m:\u001b[0m\u001b[0;34m\u001b[0m\u001b[0;34m\u001b[0m\u001b[0m\n\u001b[0;32m--> 542\u001b[0;31m             \u001b[0;32mreturn\u001b[0m \u001b[0mfuture\u001b[0m\u001b[0;34m.\u001b[0m\u001b[0mresult\u001b[0m\u001b[0;34m(\u001b[0m\u001b[0mtimeout\u001b[0m\u001b[0;34m=\u001b[0m\u001b[0mtimeout\u001b[0m\u001b[0;34m)\u001b[0m\u001b[0;34m\u001b[0m\u001b[0;34m\u001b[0m\u001b[0m\n\u001b[0m\u001b[1;32m    543\u001b[0m         \u001b[0;32mexcept\u001b[0m \u001b[0mCfTimeoutError\u001b[0m \u001b[0;32mas\u001b[0m \u001b[0me\u001b[0m\u001b[0;34m:\u001b[0m\u001b[0;34m\u001b[0m\u001b[0;34m\u001b[0m\u001b[0m\n\u001b[1;32m    544\u001b[0m             \u001b[0;32mraise\u001b[0m \u001b[0mTimeoutError\u001b[0m \u001b[0;32mfrom\u001b[0m \u001b[0me\u001b[0m\u001b[0;34m\u001b[0m\u001b[0;34m\u001b[0m\u001b[0m\n",
            "\u001b[0;32m/usr/lib/python3.9/concurrent/futures/_base.py\u001b[0m in \u001b[0;36mresult\u001b[0;34m(self, timeout)\u001b[0m\n\u001b[1;32m    439\u001b[0m                     \u001b[0;32mreturn\u001b[0m \u001b[0mself\u001b[0m\u001b[0;34m.\u001b[0m\u001b[0m__get_result\u001b[0m\u001b[0;34m(\u001b[0m\u001b[0;34m)\u001b[0m\u001b[0;34m\u001b[0m\u001b[0;34m\u001b[0m\u001b[0m\n\u001b[1;32m    440\u001b[0m \u001b[0;34m\u001b[0m\u001b[0m\n\u001b[0;32m--> 441\u001b[0;31m                 \u001b[0mself\u001b[0m\u001b[0;34m.\u001b[0m\u001b[0m_condition\u001b[0m\u001b[0;34m.\u001b[0m\u001b[0mwait\u001b[0m\u001b[0;34m(\u001b[0m\u001b[0mtimeout\u001b[0m\u001b[0;34m)\u001b[0m\u001b[0;34m\u001b[0m\u001b[0;34m\u001b[0m\u001b[0m\n\u001b[0m\u001b[1;32m    442\u001b[0m \u001b[0;34m\u001b[0m\u001b[0m\n\u001b[1;32m    443\u001b[0m                 \u001b[0;32mif\u001b[0m \u001b[0mself\u001b[0m\u001b[0;34m.\u001b[0m\u001b[0m_state\u001b[0m \u001b[0;32min\u001b[0m \u001b[0;34m[\u001b[0m\u001b[0mCANCELLED\u001b[0m\u001b[0;34m,\u001b[0m \u001b[0mCANCELLED_AND_NOTIFIED\u001b[0m\u001b[0;34m]\u001b[0m\u001b[0;34m:\u001b[0m\u001b[0;34m\u001b[0m\u001b[0;34m\u001b[0m\u001b[0m\n",
            "\u001b[0;32m/usr/lib/python3.9/threading.py\u001b[0m in \u001b[0;36mwait\u001b[0;34m(self, timeout)\u001b[0m\n\u001b[1;32m    310\u001b[0m         \u001b[0;32mtry\u001b[0m\u001b[0;34m:\u001b[0m    \u001b[0;31m# restore state no matter what (e.g., KeyboardInterrupt)\u001b[0m\u001b[0;34m\u001b[0m\u001b[0;34m\u001b[0m\u001b[0m\n\u001b[1;32m    311\u001b[0m             \u001b[0;32mif\u001b[0m \u001b[0mtimeout\u001b[0m \u001b[0;32mis\u001b[0m \u001b[0;32mNone\u001b[0m\u001b[0;34m:\u001b[0m\u001b[0;34m\u001b[0m\u001b[0;34m\u001b[0m\u001b[0m\n\u001b[0;32m--> 312\u001b[0;31m                 \u001b[0mwaiter\u001b[0m\u001b[0;34m.\u001b[0m\u001b[0macquire\u001b[0m\u001b[0;34m(\u001b[0m\u001b[0;34m)\u001b[0m\u001b[0;34m\u001b[0m\u001b[0;34m\u001b[0m\u001b[0m\n\u001b[0m\u001b[1;32m    313\u001b[0m                 \u001b[0mgotit\u001b[0m \u001b[0;34m=\u001b[0m \u001b[0;32mTrue\u001b[0m\u001b[0;34m\u001b[0m\u001b[0;34m\u001b[0m\u001b[0m\n\u001b[1;32m    314\u001b[0m             \u001b[0;32melse\u001b[0m\u001b[0;34m:\u001b[0m\u001b[0;34m\u001b[0m\u001b[0;34m\u001b[0m\u001b[0m\n",
            "\u001b[0;31mKeyboardInterrupt\u001b[0m: "
          ]
        }
      ]
    },
    {
      "cell_type": "code",
      "source": [
        "# STEP 3 - Tuning Gamma \n",
        "parameters_test = { \n",
        "    'gamma':[i/10.0 for i in range(0,5)] \n",
        "}\n",
        "\n",
        "gsearch3 = XGB_tuning (LR = LearningRate, n_est = n_estimators, max_d=best_max_depth, min_c= best_min_child_weight,\n",
        "                      param_test=parameters_test)\n",
        "best_gamma = gsearch3.best_params_['gamma']\n",
        "print(f\"{gsearch3.best_params_} CV_Score: {gsearch3.best_score_}\")\n",
        "\n",
        "# Evaluation\n",
        "XGB(LR = LearningRate, n_est = n_estimators, max_d = best_max_depth, min_c = best_min_child_weight, gm = best_gamma)"
      ],
      "metadata": {
        "colab": {
          "base_uri": "https://localhost:8080/"
        },
        "id": "ZfJB-DQpCJ9Y",
        "outputId": "fe0aebbe-fa8f-4be6-e7f2-1f6b1c543fba"
      },
      "execution_count": null,
      "outputs": [
        {
          "output_type": "stream",
          "name": "stdout",
          "text": [
            "{'gamma': 0.0} CV_Score: 0.7921793513248985\n",
            "performance over the training set: 0.8071579415360677\n",
            "performance over the test set: 0.5351681957186544\n",
            "\n",
            "              precision    recall  f1-score   support\n",
            "\n",
            "           0       0.58      0.79      0.67       783\n",
            "           1       0.68      0.44      0.54       792\n",
            "\n",
            "    accuracy                           0.61      1575\n",
            "   macro avg       0.63      0.61      0.60      1575\n",
            "weighted avg       0.63      0.61      0.60      1575\n",
            "\n"
          ]
        }
      ]
    },
    {
      "cell_type": "code",
      "source": [
        "# STEP 4 - Tuning colsample_bytree and subsaample\n",
        "parameters_test = {\n",
        "    'colsample_bytree':[i/10.0 for i in range(7,11)],\n",
        "    'subsample':[i/10.0 for i in range(7,11)]\n",
        "}\n",
        "\n",
        "gsearch4 = XGB_tuning (LR = LearningRate, n_est = n_estimators, max_d = best_max_depth, min_c = best_min_child_weight,\n",
        "                      gm = best_gamma, param_test=parameters_test)\n",
        "best_colsample_bytree, best_subsample = gsearch4.best_params_['colsample_bytree'], gsearch4.best_params_['subsample']\n",
        "print(f\"{gsearch4.best_params_} CV_Score: {gsearch4.best_score_}\")\n",
        "\n",
        "# Evaluation\n",
        "XGB(LR = LearningRate, n_est = n_estimators, max_d = best_max_depth, \n",
        "                       min_c = best_min_child_weight, gm = best_gamma,  colsample = best_colsample_bytree, \n",
        "                       subs = best_subsample)"
      ],
      "metadata": {
        "colab": {
          "base_uri": "https://localhost:8080/"
        },
        "id": "xgLBxxleCNTb",
        "outputId": "4f8965af-1641-494e-b268-3e7db1887a8c"
      },
      "execution_count": null,
      "outputs": [
        {
          "output_type": "stream",
          "name": "stdout",
          "text": [
            "{'colsample_bytree': 1.0, 'subsample': 0.7} CV_Score: 0.7955275571748593\n",
            "performance over the training set: 0.8266233766233765\n",
            "performance over the test set: 0.5231235784685367\n",
            "\n",
            "              precision    recall  f1-score   support\n",
            "\n",
            "           0       0.57      0.77      0.66       783\n",
            "           1       0.65      0.44      0.52       792\n",
            "\n",
            "    accuracy                           0.60      1575\n",
            "   macro avg       0.61      0.60      0.59      1575\n",
            "weighted avg       0.61      0.60      0.59      1575\n",
            "\n"
          ]
        }
      ]
    },
    {
      "cell_type": "code",
      "source": [
        "# STEP 5 - Tuning Regularization Parameters\n",
        "# Lambda L2 Regularization\n",
        "# Alpha L1 Regularization\n",
        "\n",
        "parameters_test = {\n",
        "    'reg_lambda':[1e-2, 0.1, 0.5, 1, 2, 10],\n",
        "    'reg_alpha':[1e-2, 0.1, 0.5, 1, 2, 10],\n",
        "}\n",
        "\n",
        "gsearch5 = XGB_tuning (LR = LearningRate, n_est = n_estimators, max_d = best_max_depth, \n",
        "                       min_c = best_min_child_weight, gm = best_gamma,  colsample = best_colsample_bytree, \n",
        "                       subs = best_subsample, param_test=parameters_test)\n",
        "\n",
        "best_reg_lambda, best_reg_alpha = gsearch5.best_params_['reg_lambda'], gsearch5.best_params_['reg_alpha']\n",
        "print(f\"{gsearch5.best_params_} CV_Score: {gsearch5.best_score_}\")"
      ],
      "metadata": {
        "colab": {
          "base_uri": "https://localhost:8080/"
        },
        "id": "_QsMveoZCRlZ",
        "outputId": "e5d523a8-25fe-4618-e36b-9e15d478c64e"
      },
      "execution_count": null,
      "outputs": [
        {
          "output_type": "stream",
          "name": "stdout",
          "text": [
            "{'reg_alpha': 2, 'reg_lambda': 0.1} CV_Score: 0.8033569736696573\n"
          ]
        }
      ]
    },
    {
      "cell_type": "code",
      "source": [
        "# Closer Look\n",
        "parameters_test = {\n",
        "    'reg_lambda':[best_reg_lambda*0.8, best_reg_lambda, best_reg_lambda*1.2, best_reg_lambda*1.5],\n",
        "    'reg_alpha':[best_reg_alpha*0.8, best_reg_alpha, best_reg_alpha*1.2, best_reg_alpha*1.5]\n",
        "}\n",
        "\n",
        "gsearch5 = XGB_tuning (LR = LearningRate, n_est = n_estimators, max_d = best_max_depth, min_c = best_min_child_weight,\n",
        "                       gm = best_gamma,  colsample = best_colsample_bytree, subs = best_subsample, \n",
        "                       param_test=parameters_test)\n",
        "\n",
        "best_reg_lambda, best_red_alpha = gsearch5.best_params_['reg_lambda'], gsearch5.best_params_['reg_alpha']\n",
        "print(f\"{gsearch5.best_params_} CV_Score: {gsearch5.best_score_}\")\n",
        "\n",
        "# Evaluation\n",
        "XGB(LR = LearningRate, n_est = n_estimators, max_d = best_max_depth, min_c = best_min_child_weight,\n",
        "                       gm = best_gamma,  colsample = best_colsample_bytree, subs = best_subsample, \n",
        "                       lambd = best_reg_lambda, alpha = best_reg_alpha)"
      ],
      "metadata": {
        "colab": {
          "base_uri": "https://localhost:8080/"
        },
        "id": "OIqhmiuWCVtN",
        "outputId": "a2801fc2-ae28-43eb-812e-1f330ac34a9c"
      },
      "execution_count": null,
      "outputs": [
        {
          "output_type": "stream",
          "name": "stdout",
          "text": [
            "{'reg_alpha': 1.6, 'reg_lambda': 0.12} CV_Score: 0.8033885731968597\n",
            "performance over the training set: 0.8271803103263776\n",
            "performance over the test set: 0.5216741405082211\n",
            "\n",
            "              precision    recall  f1-score   support\n",
            "\n",
            "           0       0.57      0.75      0.65       783\n",
            "           1       0.64      0.44      0.52       792\n",
            "\n",
            "    accuracy                           0.59      1575\n",
            "   macro avg       0.60      0.59      0.58      1575\n",
            "weighted avg       0.60      0.59      0.58      1575\n",
            "\n"
          ]
        }
      ]
    },
    {
      "cell_type": "code",
      "source": [
        " # STEP 6 - Reducing Learning Rate and Adding More Trees\n",
        "n_estimators = 10000\n",
        "parameters_test = {\n",
        "    'learning_rate':[i/100.0 for i in range(1,10)]\n",
        "}\n",
        "\n",
        "gsearch6 = XGB_tuning (LR = LearningRate, n_est = n_estimators, max_d = best_max_depth, min_c = best_min_child_weight,\n",
        "                       gm = best_gamma,  colsample = best_colsample_bytree, subs = best_subsample, \n",
        "                       lambd = best_reg_lambda, alpha = best_reg_alpha, param_test=parameters_test)\n",
        "\n",
        "LearningRate = gsearch6.best_params_['learning_rate']\n",
        "print(f\"{gsearch6.best_params_} CV_Score: {gsearch6.best_score_}\")\n",
        "\n",
        "\n",
        "# Final Evaluation\n",
        "XGB(LR = LearningRate, n_est = n_estimators, max_d = best_max_depth, min_c = best_min_child_weight,\n",
        "                       gm = best_gamma,  colsample = best_colsample_bytree, subs = best_subsample, \n",
        "                       lambd = best_reg_lambda, alpha = best_reg_alpha)"
      ],
      "metadata": {
        "colab": {
          "base_uri": "https://localhost:8080/"
        },
        "id": "vEUHCnTOCq1V",
        "outputId": "4ef8e239-f586-492d-edea-7da587be8733"
      },
      "execution_count": null,
      "outputs": [
        {
          "output_type": "stream",
          "name": "stdout",
          "text": [
            "{'learning_rate': 0.01} CV_Score: 0.7955619182655379\n",
            "performance over the training set: 0.9724974947110566\n",
            "performance over the test set: 0.49960967993754885\n",
            "\n",
            "              precision    recall  f1-score   support\n",
            "\n",
            "           0       0.57      0.78      0.66       783\n",
            "           1       0.65      0.40      0.50       792\n",
            "\n",
            "    accuracy                           0.59      1575\n",
            "   macro avg       0.61      0.59      0.58      1575\n",
            "weighted avg       0.61      0.59      0.58      1575\n",
            "\n"
          ]
        }
      ]
    },
    {
      "cell_type": "code",
      "source": [],
      "metadata": {
        "id": "jdBYOYYWhlPk"
      },
      "execution_count": null,
      "outputs": []
    },
    {
      "cell_type": "code",
      "source": [
        "xgb_model = XGBClassifier(learning_rate=0.0001, \n",
        "                                        n_estimators=10000,\n",
        "                                        max_depth=3,\n",
        "                                        min_child_weight=3,                         \n",
        "                                        gamma=0.1,\n",
        "                                        colsample_bytree=1.0,\n",
        "                                        subsample=0.9,\n",
        "                                        objective ='binary:logistic',                   \n",
        "                                        reg_lambda=8,\n",
        "                                        reg_alpha=8,\n",
        "                                        scale_pos_weight = 1,\n",
        "                                        tree_method='gpu_hist',\n",
        "                                        seed=42)\n",
        "\n",
        "\n",
        "xgb_model.fit(X_train,y_train)\n",
        "y_pred_train = xgb_model.predict(X_train)\n",
        "y_pred = xgb_model.predict(X_test)\n",
        "\n",
        "\n",
        "print('performance over the training set: ' + str(f1_score(y_train, y_pred_train)))\n",
        "print('performance over the test set: ' + str(f1_score(y_test, y_pred)) + '\\n')\n",
        "print(classification_report(y_test, y_pred))"
      ],
      "metadata": {
        "colab": {
          "base_uri": "https://localhost:8080/"
        },
        "id": "ysbGN64wdE9N",
        "outputId": "96737493-cf4a-4088-e3a5-9d2d68641f91"
      },
      "execution_count": 25,
      "outputs": [
        {
          "output_type": "stream",
          "name": "stdout",
          "text": [
            "performance over the training set: 0.7722590981918059\n",
            "performance over the test set: 0.556547619047619\n",
            "\n",
            "              precision    recall  f1-score   support\n",
            "\n",
            "           0       0.59      0.77      0.67       783\n",
            "           1       0.68      0.47      0.56       792\n",
            "\n",
            "    accuracy                           0.62      1575\n",
            "   macro avg       0.63      0.62      0.61      1575\n",
            "weighted avg       0.63      0.62      0.61      1575\n",
            "\n"
          ]
        }
      ]
    },
    {
      "cell_type": "code",
      "source": [],
      "metadata": {
        "id": "tRQpFiCedEzn"
      },
      "execution_count": null,
      "outputs": []
    },
    {
      "cell_type": "code",
      "source": [
        "links = pd.read_csv('/content/drive/Shareddrives/MNLS/Kaggle/Data/train.txt', header = None, \n",
        "                    sep = ' ', names = ['node', 'target', 'edge'])\n",
        "X = links[['node', 'target']]\n",
        "y = links['edge']"
      ],
      "metadata": {
        "id": "mDNXam9ERjzK"
      },
      "execution_count": 7,
      "outputs": []
    },
    {
      "cell_type": "code",
      "source": [
        "links = pd.read_csv('/content/drive/Shareddrives/MNLS/Kaggle/Data/test.txt', header = None, \n",
        "                    sep = ' ', names = ['node', 'target'])\n",
        "X_test = links[['node', 'target']]"
      ],
      "metadata": {
        "id": "haStnIkXUrHV"
      },
      "execution_count": 8,
      "outputs": []
    },
    {
      "cell_type": "code",
      "source": [
        "G, X, X_test = nxGenerateFeatures (X, X_test, y)"
      ],
      "metadata": {
        "id": "hLyeoboZZPn8"
      },
      "execution_count": 10,
      "outputs": []
    },
    {
      "cell_type": "code",
      "source": [
        "#G = CreateGraph(X,y)"
      ],
      "metadata": {
        "id": "uy-jZKcSiZhM"
      },
      "execution_count": 11,
      "outputs": []
    },
    {
      "cell_type": "code",
      "source": [
        "aa = nx.adamic_adar_index(G)\n",
        "\n",
        "# create a dictionary to store the results\n",
        "aa_dict = {}\n",
        "for u, v, p in aa:\n",
        "    aa_dict[(u, v)] = p"
      ],
      "metadata": {
        "id": "yA-X9G3oiYgO"
      },
      "execution_count": 12,
      "outputs": []
    },
    {
      "cell_type": "code",
      "source": [
        "X['adamic_adar_index'] = X.apply(lambda row: aa_dict.get((row['node'], row['target']), 0), axis=1)"
      ],
      "metadata": {
        "id": "Zo_gkIZ1iYcD"
      },
      "execution_count": 13,
      "outputs": []
    },
    {
      "cell_type": "code",
      "source": [
        "X_test_adar = X_test[['node','target']]"
      ],
      "metadata": {
        "id": "fnY0fe68wVx1"
      },
      "execution_count": 17,
      "outputs": []
    },
    {
      "cell_type": "code",
      "source": [
        "# Create graph where each node is connected to all of its target nodes\n",
        "G = nx.Graph()\n",
        "for node in X_test_adar['node'].unique():\n",
        "    targets = list(X_test_adar[X_test_adar['node'] == node]['target'])\n",
        "    for i, t1 in enumerate(targets):\n",
        "        for t2 in targets[i+1:]:\n",
        "            G.add_edge(t1, t2)\n",
        "\n"
      ],
      "metadata": {
        "id": "-R6eHCxwi4St"
      },
      "execution_count": 19,
      "outputs": []
    },
    {
      "cell_type": "code",
      "source": [
        "aa_dict = {(u, v): p for u, v, p in nx.adamic_adar_index(G)}"
      ],
      "metadata": {
        "id": "42WdqOMlpUXv"
      },
      "execution_count": 20,
      "outputs": []
    },
    {
      "cell_type": "code",
      "source": [
        "# Create a list of Adamic-Adar index values for each node pair in X_test\n",
        "aa_values = [aa_dict.get((row['node'], row['target']), 0) for index, row in X_test_adar.iterrows()]\n",
        "\n"
      ],
      "metadata": {
        "id": "JPd_LKsGq8l_"
      },
      "execution_count": 21,
      "outputs": []
    },
    {
      "cell_type": "code",
      "source": [
        "# Add Adamic-Adar index as a new column to the dataframe\n",
        "X_test_adar['adamic_adar_index'] = aa_values\n"
      ],
      "metadata": {
        "colab": {
          "base_uri": "https://localhost:8080/"
        },
        "id": "YbCNLV39q9o2",
        "outputId": "f7b5c78b-0ff3-4985-d343-08cf3e553438"
      },
      "execution_count": 22,
      "outputs": [
        {
          "output_type": "stream",
          "name": "stderr",
          "text": [
            "<ipython-input-22-e05c0ec8b543>:2: SettingWithCopyWarning: \n",
            "A value is trying to be set on a copy of a slice from a DataFrame.\n",
            "Try using .loc[row_indexer,col_indexer] = value instead\n",
            "\n",
            "See the caveats in the documentation: https://pandas.pydata.org/pandas-docs/stable/user_guide/indexing.html#returning-a-view-versus-a-copy\n",
            "  X_test_adar['adamic_adar_index'] = aa_values\n"
          ]
        }
      ]
    },
    {
      "cell_type": "code",
      "source": [
        "# Inner join on node and target columns\n",
        "X_test = pd.merge(X_test, X_test_adar, on=['node', 'target'], how='inner')"
      ],
      "metadata": {
        "id": "i4rAMDwIrdxa"
      },
      "execution_count": 26,
      "outputs": []
    },
    {
      "cell_type": "code",
      "source": [],
      "metadata": {
        "id": "Mw9ZvNr4iYXO"
      },
      "execution_count": null,
      "outputs": []
    },
    {
      "cell_type": "code",
      "source": [
        "xgb_model = XGBClassifier(learning_rate=0.001, \n",
        "                                        n_estimators=10000,\n",
        "                                        max_depth=3,\n",
        "                                        min_child_weight=3,                         \n",
        "                                        gamma=0.1,\n",
        "                                        colsample_bytree=1.0,\n",
        "                                        subsample=0.9,\n",
        "                                        objective ='binary:logistic',                   \n",
        "                                        reg_lambda=5,\n",
        "                                        reg_alpha=5,\n",
        "                                        scale_pos_weight = 1,\n",
        "                                        tree_method='gpu_hist',\n",
        "                                        seed=42)\n",
        "\n",
        "\n",
        "xgb_model.fit(X,y)\n",
        "y_pred_train = xgb_model.predict(X)\n",
        "y_pred = xgb_model.predict(X_test)\n",
        "\n",
        "\n",
        "print('performance over the training set: ' + str(f1_score(y, y_pred_train)))\n",
        "#print('performance over the test set: ' + str(f1_score(y_test, y_pred)) + '\\n')\n",
        "#print(classification_report(y, y_pred))"
      ],
      "metadata": {
        "colab": {
          "base_uri": "https://localhost:8080/"
        },
        "id": "bLs41232UrEu",
        "outputId": "8f4d8858-1b6f-4bb1-92f0-878107abd2c4"
      },
      "execution_count": 41,
      "outputs": [
        {
          "output_type": "stream",
          "name": "stdout",
          "text": [
            "performance over the training set: 0.7967559116669923\n"
          ]
        }
      ]
    },
    {
      "cell_type": "code",
      "source": [
        "# pd.DataFrame(y_pred, columns = ['predicted']).to_csv(result_file_name, sep=',', index=True, index_label='id')"
      ],
      "metadata": {
        "id": "Vrrg3ox8djy_"
      },
      "execution_count": null,
      "outputs": []
    },
    {
      "cell_type": "code",
      "source": [
        "df_out = pd.DataFrame(y_pred, columns = ['Predicted'])"
      ],
      "metadata": {
        "id": "5ZYVcozUt5su"
      },
      "execution_count": 42,
      "outputs": []
    },
    {
      "cell_type": "code",
      "source": [
        "df_out = df_out.reset_index()\n",
        "df_out = df_out.rename(columns={'index': 'ID'})"
      ],
      "metadata": {
        "id": "rNyYeExnuqPQ"
      },
      "execution_count": 43,
      "outputs": []
    },
    {
      "cell_type": "code",
      "source": [
        "df_out"
      ],
      "metadata": {
        "id": "msQmo3KJuAhr",
        "colab": {
          "base_uri": "https://localhost:8080/",
          "height": 419
        },
        "outputId": "0427ef39-c073-4ecc-9577-6f4c76c6e370"
      },
      "execution_count": 31,
      "outputs": [
        {
          "output_type": "execute_result",
          "data": {
            "text/plain": [
              "        ID  Predicted\n",
              "0        0          0\n",
              "1        1          0\n",
              "2        2          0\n",
              "3        3          0\n",
              "4        4          0\n",
              "...    ...        ...\n",
              "3493  3493          1\n",
              "3494  3494          0\n",
              "3495  3495          1\n",
              "3496  3496          0\n",
              "3497  3497          0\n",
              "\n",
              "[3498 rows x 2 columns]"
            ],
            "text/html": [
              "\n",
              "  <div id=\"df-14a1793a-6c42-45c2-89e1-1be39171c909\">\n",
              "    <div class=\"colab-df-container\">\n",
              "      <div>\n",
              "<style scoped>\n",
              "    .dataframe tbody tr th:only-of-type {\n",
              "        vertical-align: middle;\n",
              "    }\n",
              "\n",
              "    .dataframe tbody tr th {\n",
              "        vertical-align: top;\n",
              "    }\n",
              "\n",
              "    .dataframe thead th {\n",
              "        text-align: right;\n",
              "    }\n",
              "</style>\n",
              "<table border=\"1\" class=\"dataframe\">\n",
              "  <thead>\n",
              "    <tr style=\"text-align: right;\">\n",
              "      <th></th>\n",
              "      <th>ID</th>\n",
              "      <th>Predicted</th>\n",
              "    </tr>\n",
              "  </thead>\n",
              "  <tbody>\n",
              "    <tr>\n",
              "      <th>0</th>\n",
              "      <td>0</td>\n",
              "      <td>0</td>\n",
              "    </tr>\n",
              "    <tr>\n",
              "      <th>1</th>\n",
              "      <td>1</td>\n",
              "      <td>0</td>\n",
              "    </tr>\n",
              "    <tr>\n",
              "      <th>2</th>\n",
              "      <td>2</td>\n",
              "      <td>0</td>\n",
              "    </tr>\n",
              "    <tr>\n",
              "      <th>3</th>\n",
              "      <td>3</td>\n",
              "      <td>0</td>\n",
              "    </tr>\n",
              "    <tr>\n",
              "      <th>4</th>\n",
              "      <td>4</td>\n",
              "      <td>0</td>\n",
              "    </tr>\n",
              "    <tr>\n",
              "      <th>...</th>\n",
              "      <td>...</td>\n",
              "      <td>...</td>\n",
              "    </tr>\n",
              "    <tr>\n",
              "      <th>3493</th>\n",
              "      <td>3493</td>\n",
              "      <td>1</td>\n",
              "    </tr>\n",
              "    <tr>\n",
              "      <th>3494</th>\n",
              "      <td>3494</td>\n",
              "      <td>0</td>\n",
              "    </tr>\n",
              "    <tr>\n",
              "      <th>3495</th>\n",
              "      <td>3495</td>\n",
              "      <td>1</td>\n",
              "    </tr>\n",
              "    <tr>\n",
              "      <th>3496</th>\n",
              "      <td>3496</td>\n",
              "      <td>0</td>\n",
              "    </tr>\n",
              "    <tr>\n",
              "      <th>3497</th>\n",
              "      <td>3497</td>\n",
              "      <td>0</td>\n",
              "    </tr>\n",
              "  </tbody>\n",
              "</table>\n",
              "<p>3498 rows × 2 columns</p>\n",
              "</div>\n",
              "      <button class=\"colab-df-convert\" onclick=\"convertToInteractive('df-14a1793a-6c42-45c2-89e1-1be39171c909')\"\n",
              "              title=\"Convert this dataframe to an interactive table.\"\n",
              "              style=\"display:none;\">\n",
              "        \n",
              "  <svg xmlns=\"http://www.w3.org/2000/svg\" height=\"24px\"viewBox=\"0 0 24 24\"\n",
              "       width=\"24px\">\n",
              "    <path d=\"M0 0h24v24H0V0z\" fill=\"none\"/>\n",
              "    <path d=\"M18.56 5.44l.94 2.06.94-2.06 2.06-.94-2.06-.94-.94-2.06-.94 2.06-2.06.94zm-11 1L8.5 8.5l.94-2.06 2.06-.94-2.06-.94L8.5 2.5l-.94 2.06-2.06.94zm10 10l.94 2.06.94-2.06 2.06-.94-2.06-.94-.94-2.06-.94 2.06-2.06.94z\"/><path d=\"M17.41 7.96l-1.37-1.37c-.4-.4-.92-.59-1.43-.59-.52 0-1.04.2-1.43.59L10.3 9.45l-7.72 7.72c-.78.78-.78 2.05 0 2.83L4 21.41c.39.39.9.59 1.41.59.51 0 1.02-.2 1.41-.59l7.78-7.78 2.81-2.81c.8-.78.8-2.07 0-2.86zM5.41 20L4 18.59l7.72-7.72 1.47 1.35L5.41 20z\"/>\n",
              "  </svg>\n",
              "      </button>\n",
              "      \n",
              "  <style>\n",
              "    .colab-df-container {\n",
              "      display:flex;\n",
              "      flex-wrap:wrap;\n",
              "      gap: 12px;\n",
              "    }\n",
              "\n",
              "    .colab-df-convert {\n",
              "      background-color: #E8F0FE;\n",
              "      border: none;\n",
              "      border-radius: 50%;\n",
              "      cursor: pointer;\n",
              "      display: none;\n",
              "      fill: #1967D2;\n",
              "      height: 32px;\n",
              "      padding: 0 0 0 0;\n",
              "      width: 32px;\n",
              "    }\n",
              "\n",
              "    .colab-df-convert:hover {\n",
              "      background-color: #E2EBFA;\n",
              "      box-shadow: 0px 1px 2px rgba(60, 64, 67, 0.3), 0px 1px 3px 1px rgba(60, 64, 67, 0.15);\n",
              "      fill: #174EA6;\n",
              "    }\n",
              "\n",
              "    [theme=dark] .colab-df-convert {\n",
              "      background-color: #3B4455;\n",
              "      fill: #D2E3FC;\n",
              "    }\n",
              "\n",
              "    [theme=dark] .colab-df-convert:hover {\n",
              "      background-color: #434B5C;\n",
              "      box-shadow: 0px 1px 3px 1px rgba(0, 0, 0, 0.15);\n",
              "      filter: drop-shadow(0px 1px 2px rgba(0, 0, 0, 0.3));\n",
              "      fill: #FFFFFF;\n",
              "    }\n",
              "  </style>\n",
              "\n",
              "      <script>\n",
              "        const buttonEl =\n",
              "          document.querySelector('#df-14a1793a-6c42-45c2-89e1-1be39171c909 button.colab-df-convert');\n",
              "        buttonEl.style.display =\n",
              "          google.colab.kernel.accessAllowed ? 'block' : 'none';\n",
              "\n",
              "        async function convertToInteractive(key) {\n",
              "          const element = document.querySelector('#df-14a1793a-6c42-45c2-89e1-1be39171c909');\n",
              "          const dataTable =\n",
              "            await google.colab.kernel.invokeFunction('convertToInteractive',\n",
              "                                                     [key], {});\n",
              "          if (!dataTable) return;\n",
              "\n",
              "          const docLinkHtml = 'Like what you see? Visit the ' +\n",
              "            '<a target=\"_blank\" href=https://colab.research.google.com/notebooks/data_table.ipynb>data table notebook</a>'\n",
              "            + ' to learn more about interactive tables.';\n",
              "          element.innerHTML = '';\n",
              "          dataTable['output_type'] = 'display_data';\n",
              "          await google.colab.output.renderOutput(dataTable, element);\n",
              "          const docLink = document.createElement('div');\n",
              "          docLink.innerHTML = docLinkHtml;\n",
              "          element.appendChild(docLink);\n",
              "        }\n",
              "      </script>\n",
              "    </div>\n",
              "  </div>\n",
              "  "
            ]
          },
          "metadata": {},
          "execution_count": 31
        }
      ]
    },
    {
      "cell_type": "code",
      "source": [
        "df_out.to_csv('/content/drive/Shareddrives/MNLS/Kaggle/Data/final_test_results_20230325_v3.csv', index=False)"
      ],
      "metadata": {
        "id": "pSuI7wiPUrB-"
      },
      "execution_count": 44,
      "outputs": []
    },
    {
      "cell_type": "code",
      "source": [],
      "metadata": {
        "id": "xRR4s_18kP40"
      },
      "execution_count": null,
      "outputs": []
    },
    {
      "cell_type": "code",
      "source": [],
      "metadata": {
        "id": "xd2sn6kekPhH"
      },
      "execution_count": null,
      "outputs": []
    },
    {
      "cell_type": "code",
      "source": [
        "X_train, X_test, y_train, y_test = train_test_split(X, y, test_size=0.15, random_state=42)\n",
        "G, X_train, X_test = nxGenerateFeatures (X_train, X_test, y_train)"
      ],
      "metadata": {
        "id": "fgra_X9WbDBL"
      },
      "execution_count": null,
      "outputs": []
    },
    {
      "cell_type": "code",
      "source": [
        "aa = nx.adamic_adar_index(G)\n",
        "\n",
        "# create a dictionary to store the results\n",
        "aa_dict = {}\n",
        "for u, v, p in aa:\n",
        "    aa_dict[(u, v)] = p"
      ],
      "metadata": {
        "id": "8HfjiXKlmI2O"
      },
      "execution_count": null,
      "outputs": []
    },
    {
      "cell_type": "code",
      "source": [
        "X_train['adamic_adar_index'] = X_train.apply(lambda row: aa_dict.get((row['node'], row['target']), 0), axis=1)\n",
        "\n",
        "X_test['adamic_adar_index'] = X_test.apply(lambda row: aa_dict.get((row['node'], row['target']), 0), axis=1)"
      ],
      "metadata": {
        "id": "ILKOry0omHs1"
      },
      "execution_count": null,
      "outputs": []
    },
    {
      "cell_type": "code",
      "source": [
        "!pip install catboost"
      ],
      "metadata": {
        "colab": {
          "base_uri": "https://localhost:8080/"
        },
        "id": "g3tdW0WCbIGZ",
        "outputId": "a6341360-2f69-42d7-e39c-78bc667b6e4f"
      },
      "execution_count": 81,
      "outputs": [
        {
          "output_type": "stream",
          "name": "stdout",
          "text": [
            "Looking in indexes: https://pypi.org/simple, https://us-python.pkg.dev/colab-wheels/public/simple/\n",
            "Requirement already satisfied: catboost in /usr/local/lib/python3.9/dist-packages (1.1.1)\n",
            "Requirement already satisfied: pandas>=0.24.0 in /usr/local/lib/python3.9/dist-packages (from catboost) (1.4.4)\n",
            "Requirement already satisfied: matplotlib in /usr/local/lib/python3.9/dist-packages (from catboost) (3.7.1)\n",
            "Requirement already satisfied: graphviz in /usr/local/lib/python3.9/dist-packages (from catboost) (0.20.1)\n",
            "Requirement already satisfied: numpy>=1.16.0 in /usr/local/lib/python3.9/dist-packages (from catboost) (1.22.4)\n",
            "Requirement already satisfied: scipy in /usr/local/lib/python3.9/dist-packages (from catboost) (1.10.1)\n",
            "Requirement already satisfied: plotly in /usr/local/lib/python3.9/dist-packages (from catboost) (5.13.1)\n",
            "Requirement already satisfied: six in /usr/local/lib/python3.9/dist-packages (from catboost) (1.16.0)\n",
            "Requirement already satisfied: python-dateutil>=2.8.1 in /usr/local/lib/python3.9/dist-packages (from pandas>=0.24.0->catboost) (2.8.2)\n",
            "Requirement already satisfied: pytz>=2020.1 in /usr/local/lib/python3.9/dist-packages (from pandas>=0.24.0->catboost) (2022.7.1)\n",
            "Requirement already satisfied: fonttools>=4.22.0 in /usr/local/lib/python3.9/dist-packages (from matplotlib->catboost) (4.39.2)\n",
            "Requirement already satisfied: kiwisolver>=1.0.1 in /usr/local/lib/python3.9/dist-packages (from matplotlib->catboost) (1.4.4)\n",
            "Requirement already satisfied: importlib-resources>=3.2.0 in /usr/local/lib/python3.9/dist-packages (from matplotlib->catboost) (5.12.0)\n",
            "Requirement already satisfied: pillow>=6.2.0 in /usr/local/lib/python3.9/dist-packages (from matplotlib->catboost) (8.4.0)\n",
            "Requirement already satisfied: cycler>=0.10 in /usr/local/lib/python3.9/dist-packages (from matplotlib->catboost) (0.11.0)\n",
            "Requirement already satisfied: packaging>=20.0 in /usr/local/lib/python3.9/dist-packages (from matplotlib->catboost) (23.0)\n",
            "Requirement already satisfied: contourpy>=1.0.1 in /usr/local/lib/python3.9/dist-packages (from matplotlib->catboost) (1.0.7)\n",
            "Requirement already satisfied: pyparsing>=2.3.1 in /usr/local/lib/python3.9/dist-packages (from matplotlib->catboost) (3.0.9)\n",
            "Requirement already satisfied: tenacity>=6.2.0 in /usr/local/lib/python3.9/dist-packages (from plotly->catboost) (8.2.2)\n",
            "Requirement already satisfied: zipp>=3.1.0 in /usr/local/lib/python3.9/dist-packages (from importlib-resources>=3.2.0->matplotlib->catboost) (3.15.0)\n"
          ]
        }
      ]
    },
    {
      "cell_type": "code",
      "source": [
        "from catboost import CatBoostClassifier\n",
        "from sklearn.model_selection import GridSearchCV"
      ],
      "metadata": {
        "id": "2DtS8Bt1a2F2"
      },
      "execution_count": 82,
      "outputs": []
    },
    {
      "cell_type": "code",
      "source": [
        "\n",
        "def CatBoost(LR = 0.0001, n_est = 10000, max_d = 5, l2_val = 0.1, subs = 1, early = 10,\n",
        "             bt = 1):\n",
        "   \n",
        "    cb_model = CatBoostClassifier(learning_rate=LR,\n",
        "                                   n_estimators=n_est,\n",
        "                                   max_depth=max_d,\n",
        "                                   reg_lambda=l2_val,\n",
        "                                   subsample=subs,\n",
        "                                  early_stopping_rounds= early,\n",
        "                                  bagging_temperature = bt,\n",
        "                                   random_state=42)\n",
        "\n",
        "    cb_model.fit(X_train,y_train, verbose=False)\n",
        "    y_pred_train = cb_model.predict(X_train)\n",
        "    y_pred = cb_model.predict(X_test)\n",
        "\n",
        "    print('performance over the training set: ' + str(f1_score(y_train, y_pred_train)))\n",
        "    print('performance over the test set: ' + str(f1_score(y_test, y_pred)) + '\\n')\n",
        "    print(classification_report(y_test, y_pred))\n"
      ],
      "metadata": {
        "id": "8WnY4u2gbN3r"
      },
      "execution_count": null,
      "outputs": []
    },
    {
      "cell_type": "code",
      "source": [
        "def CatBoost_tuning (LR = 0.1, n_est = 1000, max_d = 5, lambd = 0.1, subs = 0.8, \n",
        "                     param_test = {'learning_rate':[i/100.0 for i in range(5,20,2)]} ):\n",
        "    \n",
        "    gsearch = GridSearchCV(estimator = CatBoostClassifier(learning_rate=LR,\n",
        "                                                          n_estimators=n_est,\n",
        "                                                          max_depth=max_d,\n",
        "                                                          reg_lambda=lambd,\n",
        "                                                          subsample=subs,\n",
        "                                                          random_state=42), \n",
        "                            param_grid = param_test, \n",
        "                            scoring='f1',\n",
        "                            n_jobs=4, \n",
        "                            cv=3)\n",
        "\n",
        "    gsearch.fit(X_train, y_train, verbose = False)\n",
        "    return gsearch\n"
      ],
      "metadata": {
        "id": "kHU3OBDMa0ay"
      },
      "execution_count": null,
      "outputs": []
    },
    {
      "cell_type": "code",
      "source": [
        "# STEP 1 - First XGB - A little bit overfitted, but could improve more the training set\n",
        "LearningRate = 0.0001\n",
        "n_estimators = 1000\n",
        "\n",
        "# Fix Learning Rate and n_estimators\n",
        "CatBoost(LearningRate, n_estimators)"
      ],
      "metadata": {
        "colab": {
          "base_uri": "https://localhost:8080/"
        },
        "id": "QMX6FgcqbkfF",
        "outputId": "65a080a7-f227-4314-fded-693c3bed1162"
      },
      "execution_count": null,
      "outputs": [
        {
          "output_type": "stream",
          "name": "stdout",
          "text": [
            "performance over the training set: 0.748204826368452\n",
            "performance over the test set: 0.5569044006069803\n",
            "\n",
            "              precision    recall  f1-score   support\n",
            "\n",
            "           0       0.59      0.80      0.68       783\n",
            "           1       0.70      0.46      0.56       792\n",
            "\n",
            "    accuracy                           0.63      1575\n",
            "   macro avg       0.65      0.63      0.62      1575\n",
            "weighted avg       0.65      0.63      0.62      1575\n",
            "\n"
          ]
        }
      ]
    },
    {
      "cell_type": "code",
      "source": [
        "# STEP 2 - Tuning max_depth\n",
        "\n",
        "parameters_test = {\n",
        "    'max_depth':[3,5,7,9]\n",
        "}\n",
        "\n",
        "gsearch2_cb = CatBoost_tuning (LR = LearningRate, n_est = n_estimators, param_test=parameters_test)\n",
        "best_max_depth = gsearch2_cb.best_params_['max_depth']\n",
        "print(f\"{gsearch2_cb.best_params_} CV_Score: {gsearch2_cb.best_score_}\")\n",
        "\n",
        "# Evaluation\n",
        "CatBoost(LR = LearningRate, n_est = n_estimators, max_d=best_max_depth)"
      ],
      "metadata": {
        "colab": {
          "base_uri": "https://localhost:8080/"
        },
        "id": "AqkI72MJbY4I",
        "outputId": "6fa435b4-8b6b-4b07-b4ba-043c5f00a711"
      },
      "execution_count": null,
      "outputs": [
        {
          "output_type": "stream",
          "name": "stdout",
          "text": [
            "{'max_depth': 9} CV_Score: 0.748854879562472\n",
            "performance over the training set: 0.7494712103407756\n",
            "performance over the test set: 0.5575757575757576\n",
            "\n",
            "              precision    recall  f1-score   support\n",
            "\n",
            "           0       0.60      0.80      0.68       783\n",
            "           1       0.70      0.46      0.56       792\n",
            "\n",
            "    accuracy                           0.63      1575\n",
            "   macro avg       0.65      0.63      0.62      1575\n",
            "weighted avg       0.65      0.63      0.62      1575\n",
            "\n"
          ]
        }
      ]
    },
    {
      "cell_type": "code",
      "source": [
        "# STEP 3 - l2_leaf tuning\n",
        "\n",
        "parameters_test = {\n",
        "    'l2_leaf_reg':[0.1, 1, 5, 10, 20]\n",
        "}\n",
        "\n",
        "gsearch3_cb = CatBoost_tuning (LR = LearningRate, n_est = n_estimators, param_test=parameters_test)\n",
        "best_l2_leaf= gsearch3_cb.best_params_['l2_leaf_reg']\n",
        "print(f\"{gsearch3_cb.best_params_} CV_Score: {gsearch3_cb.best_score_}\")\n",
        "\n",
        "# Evaluation\n",
        "CatBoost(LR = LearningRate, n_est = n_estimators, max_d=best_max_depth, l2_leaf_reg = best_l2_leaf)"
      ],
      "metadata": {
        "id": "jwCqbYJXbx5q"
      },
      "execution_count": null,
      "outputs": []
    },
    {
      "cell_type": "code",
      "source": [
        "# STEP 4 - sub_sample tuning\n",
        "\n",
        "parameters_test = {\n",
        "    'subsample': [0.6, 0.7, 0.8, 0.9, 1.0]\n",
        "}\n",
        "\n",
        "gsearch4_cb = CatBoost_tuning (LR = LearningRate, n_est = n_estimators, param_test=parameters_test)\n",
        "best_subsample= gsearch4_cb.best_params_['subsample']\n",
        "print(f\"{gsearch4_cb.best_params_} CV_Score: {gsearch4_cb.best_score_}\")\n",
        "\n",
        "# Evaluation\n",
        "CatBoost(LR = LearningRate, n_est = n_estimators, max_d=best_max_depth,  subs = best_subsample)"
      ],
      "metadata": {
        "colab": {
          "base_uri": "https://localhost:8080/"
        },
        "id": "SrwI15gpeFuR",
        "outputId": "00906d5a-1c2f-4ecd-c78d-ccdd49cfbdad"
      },
      "execution_count": null,
      "outputs": [
        {
          "output_type": "stream",
          "name": "stdout",
          "text": [
            "{'subsample': 0.7} CV_Score: 0.7478623539302749\n",
            "performance over the training set: 0.7494712103407756\n",
            "performance over the test set: 0.5575757575757576\n",
            "\n",
            "              precision    recall  f1-score   support\n",
            "\n",
            "           0       0.60      0.80      0.68       783\n",
            "           1       0.70      0.46      0.56       792\n",
            "\n",
            "    accuracy                           0.63      1575\n",
            "   macro avg       0.65      0.63      0.62      1575\n",
            "weighted avg       0.65      0.63      0.62      1575\n",
            "\n"
          ]
        }
      ]
    },
    {
      "cell_type": "code",
      "source": [
        "# STEP 5 - lambda tuning\n",
        "\n",
        "parameters_test = {'reg_lambda': [0.01, 0.1, 1, 10,100]}\n",
        "\n",
        "gsearch5_cb = CatBoost_tuning (LR = LearningRate, n_est = n_estimators, param_test=parameters_test)\n",
        "best_reglambda= gsearch5_cb.best_params_['reg_lambda']\n",
        "print(f\"{gsearch5_cb.best_params_} CV_Score: {gsearch5_cb.best_score_}\")\n",
        "\n",
        "# Evaluation\n",
        "CatBoost(LR = LearningRate, n_est = n_estimators, max_d=best_max_depth,\n",
        "        subs = best_subsample, l2_val = best_reglambda)"
      ],
      "metadata": {
        "colab": {
          "base_uri": "https://localhost:8080/"
        },
        "id": "Vv6rM7SGehVN",
        "outputId": "f6143061-7bf1-49a7-81ca-d022896c8554"
      },
      "execution_count": null,
      "outputs": [
        {
          "output_type": "stream",
          "name": "stdout",
          "text": [
            "{'reg_lambda': 0.01} CV_Score: 0.7479693398271213\n",
            "performance over the training set: 0.7503240249793803\n",
            "performance over the test set: 0.5595147839272177\n",
            "\n",
            "              precision    recall  f1-score   support\n",
            "\n",
            "           0       0.60      0.80      0.68       783\n",
            "           1       0.70      0.47      0.56       792\n",
            "\n",
            "    accuracy                           0.63      1575\n",
            "   macro avg       0.65      0.63      0.62      1575\n",
            "weighted avg       0.65      0.63      0.62      1575\n",
            "\n"
          ]
        }
      ]
    },
    {
      "cell_type": "code",
      "source": [
        "# STEP 6 - LR tuning\n",
        "\n",
        "parameters_test = {'learning_rate': [0.001, 0.01, 0.1, 1]}\n",
        "\n",
        "gsearch6_cb = CatBoost_tuning (n_est = n_estimators, param_test=parameters_test)\n",
        "best_lr= gsearch6_cb.best_params_['learning_rate']\n",
        "print(f\"{gsearch6_cb.best_params_} CV_Score: {gsearch6_cb.best_score_}\")\n",
        "\n",
        "# Evaluation\n",
        "CatBoost(LR = best_lr, n_est = n_estimators, max_d=best_max_depth,\n",
        "        subs = best_subsample, l2_val = best_reglambda)"
      ],
      "metadata": {
        "colab": {
          "base_uri": "https://localhost:8080/"
        },
        "id": "YfEePYmEexO9",
        "outputId": "c92cb9cf-301d-4e7d-c6c1-b3e4dac0315e"
      },
      "execution_count": null,
      "outputs": [
        {
          "output_type": "stream",
          "name": "stdout",
          "text": [
            "{'learning_rate': 0.01} CV_Score: 0.7525625290022072\n",
            "performance over the training set: 0.7750028772010589\n",
            "performance over the test set: 0.5568685376661742\n",
            "\n",
            "              precision    recall  f1-score   support\n",
            "\n",
            "           0       0.59      0.76      0.67       783\n",
            "           1       0.67      0.48      0.56       792\n",
            "\n",
            "    accuracy                           0.62      1575\n",
            "   macro avg       0.63      0.62      0.61      1575\n",
            "weighted avg       0.63      0.62      0.61      1575\n",
            "\n"
          ]
        }
      ]
    },
    {
      "cell_type": "code",
      "source": [
        "# STEP 7 - n_estimators tuning\n",
        "\n",
        "parameters_test = {'n_estimators': [50, 100, 200, 500, 1000]}\n",
        "\n",
        "gsearch7_cb = CatBoost_tuning (LR = LearningRate, param_test=parameters_test)\n",
        "best_est= gsearch7_cb.best_params_['n_estimators']\n",
        "print(f\"{gsearch7_cb.best_params_} CV_Score: {gsearch7_cb.best_score_}\")\n",
        "\n",
        "# Evaluation\n",
        "CatBoost(LR = best_lr, n_est = best_est, max_d=best_max_depth,\n",
        "        subs = best_subsample, l2_val = best_reglambda)"
      ],
      "metadata": {
        "colab": {
          "base_uri": "https://localhost:8080/"
        },
        "id": "MmklZanQzTVY",
        "outputId": "13a62ded-d805-44f4-aa64-2a27c70333d7"
      },
      "execution_count": null,
      "outputs": [
        {
          "output_type": "stream",
          "name": "stdout",
          "text": [
            "{'n_estimators': 10000} CV_Score: 0.751004047842959\n",
            "performance over the training set: 0.9973045822102427\n",
            "performance over the test set: 0.5558739255014327\n",
            "\n",
            "              precision    recall  f1-score   support\n",
            "\n",
            "           0       0.58      0.72      0.65       783\n",
            "           1       0.64      0.49      0.56       792\n",
            "\n",
            "    accuracy                           0.61      1575\n",
            "   macro avg       0.61      0.61      0.60      1575\n",
            "weighted avg       0.61      0.61      0.60      1575\n",
            "\n"
          ]
        }
      ]
    },
    {
      "cell_type": "code",
      "source": [],
      "metadata": {
        "id": "huX6JlTs3wjW"
      },
      "execution_count": null,
      "outputs": []
    },
    {
      "cell_type": "code",
      "source": [
        "links = pd.read_csv('/content/drive/Shareddrives/MNLS/Kaggle/Data/train.txt', header = None, \n",
        "                    sep = ' ', names = ['node', 'target', 'edge'])\n",
        "X = links[['node', 'target']]\n",
        "y = links['edge']"
      ],
      "metadata": {
        "id": "nT2kGy89RHO3"
      },
      "execution_count": null,
      "outputs": []
    },
    {
      "cell_type": "code",
      "source": [
        "links = pd.read_csv('/content/drive/Shareddrives/MNLS/Kaggle/Data/test.txt', header = None, \n",
        "                    sep = ' ', names = ['node', 'target'])\n",
        "X_test = links[['node', 'target']]"
      ],
      "metadata": {
        "id": "q98bna8w2rTz"
      },
      "execution_count": null,
      "outputs": []
    },
    {
      "cell_type": "code",
      "source": [
        "G, X, X_test = nxGenerateFeatures (X, X_test, y)"
      ],
      "metadata": {
        "id": "f2YoJwPt2u4k"
      },
      "execution_count": null,
      "outputs": []
    },
    {
      "cell_type": "code",
      "source": [
        "aa = nx.adamic_adar_index(G)\n",
        "\n",
        "# create a dictionary to store the results\n",
        "aa_dict = {}\n",
        "for u, v, p in aa:\n",
        "    aa_dict[(u, v)] = p"
      ],
      "metadata": {
        "id": "5TlroRqxliid"
      },
      "execution_count": null,
      "outputs": []
    },
    {
      "cell_type": "code",
      "source": [
        "X['adamic_adar_index'] = X.apply(lambda row: aa_dict.get((row['node'], row['target']), 0), axis=1) "
      ],
      "metadata": {
        "id": "tbQ5IvqAlkNQ"
      },
      "execution_count": null,
      "outputs": []
    },
    {
      "cell_type": "code",
      "source": [
        "X_test_adar = X_test[['node','target']]"
      ],
      "metadata": {
        "id": "EvNDJzNmlkIO"
      },
      "execution_count": null,
      "outputs": []
    },
    {
      "cell_type": "code",
      "source": [
        "# Create graph where each node is connected to all of its target nodes\n",
        "G = nx.Graph()\n",
        "for node in X_test_adar['node'].unique():\n",
        "    targets = list(X_test_adar[X_test_adar['node'] == node]['target'])\n",
        "    for i, t1 in enumerate(targets):\n",
        "        for t2 in targets[i+1:]:\n",
        "            G.add_edge(t1, t2)\n"
      ],
      "metadata": {
        "id": "DDIIUsG5lnd1"
      },
      "execution_count": null,
      "outputs": []
    },
    {
      "cell_type": "code",
      "source": [
        "aa_dict = {(u, v): p for u, v, p in nx.adamic_adar_index(G)}\n",
        "\n",
        "\n",
        "# Create a list of Adamic-Adar index values for each node pair in X_test\n",
        "aa_values = [aa_dict.get((row['node'], row['target']), 0) for index, row in X_test_adar.iterrows()]\n"
      ],
      "metadata": {
        "id": "oX3hNg7Mlqwv"
      },
      "execution_count": null,
      "outputs": []
    },
    {
      "cell_type": "code",
      "source": [
        "# Add Adamic-Adar index as a new column to the dataframe\n",
        "X_test_adar['adamic_adar_index'] = aa_values\n",
        "\n",
        "# Inner join on node and target columns\n",
        "X_test = pd.merge(X_test, X_test_adar, on=['node', 'target'], how='inner')"
      ],
      "metadata": {
        "id": "3cYpA2QLltg2"
      },
      "execution_count": null,
      "outputs": []
    },
    {
      "cell_type": "code",
      "source": [
        "cb_model = CatBoostClassifier(learning_rate=0.00001,\n",
        "                              n_estimators=500,\n",
        "                              max_depth=3,\n",
        "                              reg_lambda=10,\n",
        "                              subsample=1,\n",
        "                              #early_stopping_rounds = 20,\n",
        "                              #bagging_temperature = 0.1,\n",
        "                              #random_strength = 10,\n",
        "                              random_state=42)\n",
        "\n",
        "cb_model.fit(X,y, verbose=False)\n",
        "y_pred_train = cb_model.predict(X)\n",
        "y_pred = cb_model.predict(X_test)\n",
        "\n",
        "print('performance over the training set: ' + str(f1_score(y, y_pred_train)))\n",
        "    # print('performance over the test set: ' + str(f1_score(y_test, y_pred)) + '\\n')\n",
        "    # print(classification_report(y_test, y_pred))"
      ],
      "metadata": {
        "colab": {
          "base_uri": "https://localhost:8080/"
        },
        "id": "jk2U-baH2yUS",
        "outputId": "d8d2002a-0fc0-4fab-c310-06077db4f097"
      },
      "execution_count": null,
      "outputs": [
        {
          "output_type": "stream",
          "name": "stdout",
          "text": [
            "performance over the training set: 0.7339750153594101\n"
          ]
        }
      ]
    },
    {
      "cell_type": "code",
      "source": [
        "df_out = pd.DataFrame(y_pred, columns = ['Predicted'])"
      ],
      "metadata": {
        "id": "nfR7OALr3iPc"
      },
      "execution_count": null,
      "outputs": []
    },
    {
      "cell_type": "code",
      "source": [
        "df_out = df_out.reset_index()\n",
        "df_out = df_out.rename(columns={'index': 'ID'})"
      ],
      "metadata": {
        "id": "pGqHEVAk3j5M"
      },
      "execution_count": null,
      "outputs": []
    },
    {
      "cell_type": "code",
      "source": [
        "df_out.to_csv('/content/drive/Shareddrives/MNLS/Kaggle/Data/final_test_results_20230322_v6.csv', index=False)"
      ],
      "metadata": {
        "id": "uihT13QG3k_C"
      },
      "execution_count": null,
      "outputs": []
    }
  ]
}